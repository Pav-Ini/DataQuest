{
 "cells": [
  {
   "cell_type": "markdown",
   "metadata": {},
   "source": [
    "# Exploring Hacker News Posts\n",
    "\n",
    "This project is part of the [Dataquest.io](https://www.dataquest.io) guided project. The goal of this project is to explore [Hacker News Posts](https://news.ycombinator.com).\n",
    "\n",
    "**Data set**\n",
    "Full data set on [Kaggle](https://www.kaggle.com/hacker-news/hacker-news-posts)\n",
    "\n",
    "**Research question**\n",
    "- Do Ask HN or Show HN receive more comments on average?\n",
    "- Do posts created at a certain time receive more comments on average?\n",
    "I'm analyzing posts that contains string \"Ask HN\" or \"Show HN\"."
   ]
  },
  {
   "cell_type": "code",
   "execution_count": 2,
   "metadata": {},
   "outputs": [],
   "source": [
    "# Opening the csv file\n",
    "from csv import reader\n",
    "opened_file = open(\"hacker_news.csv\")\n",
    "read_file = reader(opened_file)\n",
    "hn_all = list(read_file)\n",
    "hn_header = hn_all[0] #extracting header row\n",
    "hn = hn_all[1:] #extracting data rows"
   ]
  },
  {
   "cell_type": "code",
   "execution_count": 3,
   "metadata": {},
   "outputs": [
    {
     "name": "stdout",
     "output_type": "stream",
     "text": [
      "['id', 'title', 'url', 'num_points', 'num_comments', 'author', 'created_at']\n",
      "\n",
      "\n",
      "[['12224879', 'Interactive Dynamic Video', 'http://www.interactivedynamicvideo.com/', '386', '52', 'ne0phyte', '8/4/2016 11:52'], ['10975351', 'How to Use Open Source and Shut the Fuck Up at the Same Time', 'http://hueniverse.com/2016/01/26/how-to-use-open-source-and-shut-the-fuck-up-at-the-same-time/', '39', '10', 'josep2', '1/26/2016 19:30'], ['11964716', \"Florida DJs May Face Felony for April Fools' Water Joke\", 'http://www.thewire.com/entertainment/2013/04/florida-djs-april-fools-water-joke/63798/', '2', '1', 'vezycash', '6/23/2016 22:20']]\n"
     ]
    }
   ],
   "source": [
    "# Displaying header and first 3 rows of the data set\n",
    "print(hn_header)\n",
    "print(\"\\n\")\n",
    "print(hn[:3])"
   ]
  },
  {
   "cell_type": "markdown",
   "metadata": {},
   "source": [
    "## Filtering the Ask HN and Show HN posts\n",
    "\n",
    "In order to work only whith the ask and show posts we need to filter out the right data."
   ]
  },
  {
   "cell_type": "code",
   "execution_count": 4,
   "metadata": {},
   "outputs": [
    {
     "name": "stdout",
     "output_type": "stream",
     "text": [
      "Number of ask posts 1744\n",
      "Number of show posts: 1162\n",
      "Number of other posts: 17194\n",
      "Control check, lenght of original Hacker News dataset: 20100\n",
      "Lenght of the extracted posts: 20100\n"
     ]
    }
   ],
   "source": [
    "ask_posts = []\n",
    "show_posts = []\n",
    "other_posts = []\n",
    "\n",
    "for row in hn:\n",
    "    title = row[1]\n",
    "    title = title.lower()\n",
    "    if title.startswith(\"ask hn\"):\n",
    "        ask_posts.append(row)\n",
    "    elif title.startswith(\"show hn\"):\n",
    "        show_posts.append(row)\n",
    "    else:\n",
    "        other_posts.append(row)\n",
    "\n",
    "all_posts = ask_posts + show_posts + other_posts\n",
    "\n",
    "print(\"Number of ask posts\", len(ask_posts))\n",
    "print(\"Number of show posts:\", len(show_posts))\n",
    "print(\"Number of other posts:\",len(other_posts))\n",
    "print(\"Control check, lenght of original Hacker News dataset:\", len(hn))\n",
    "print(\"Lenght of the extracted posts:\", len(all_posts))"
   ]
  },
  {
   "cell_type": "code",
   "execution_count": 5,
   "metadata": {},
   "outputs": [
    {
     "name": "stdout",
     "output_type": "stream",
     "text": [
      "[['12296411', 'Ask HN: How to improve my personal website?', '', '2', '6', 'ahmedbaracat', '8/16/2016 9:55'], ['10610020', 'Ask HN: Am I the only one outraged by Twitter shutting down share counts?', '', '28', '29', 'tkfx', '11/22/2015 13:43'], ['11610310', 'Ask HN: Aby recent changes to CSS that broke mobile?', '', '1', '1', 'polskibus', '5/2/2016 10:14']]\n",
      "\n",
      "\n",
      "[['10627194', 'Show HN: Wio Link  ESP8266 Based Web of Things Hardware Development Platform', 'https://iot.seeed.cc', '26', '22', 'kfihihc', '11/25/2015 14:03'], ['10646440', 'Show HN: Something pointless I made', 'http://dn.ht/picklecat/', '747', '102', 'dhotson', '11/29/2015 22:46'], ['11590768', 'Show HN: Shanhu.io, a programming playground powered by e8vm', 'https://shanhu.io', '1', '1', 'h8liu', '4/28/2016 18:05']]\n"
     ]
    }
   ],
   "source": [
    "# exploring first rows of the Ask posts nad Show posts\n",
    "print(ask_posts[:3])\n",
    "print(\"\\n\")\n",
    "print(show_posts[:3])"
   ]
  },
  {
   "cell_type": "markdown",
   "metadata": {},
   "source": [
    "## What posts are more commented?"
   ]
  },
  {
   "cell_type": "code",
   "execution_count": 17,
   "metadata": {},
   "outputs": [
    {
     "name": "stdout",
     "output_type": "stream",
     "text": [
      "Average number of comments on ask posts: 14\n"
     ]
    }
   ],
   "source": [
    "# Finiding the average number of ask comments\n",
    "total_ask_comments = 0\n",
    "\n",
    "for row in ask_posts:\n",
    "    comments = int(row[4])\n",
    "    total_ask_comments += comments\n",
    "    \n",
    "avg_ask_comments = round(total_ask_comments / len(ask_posts))   \n",
    "\n",
    "print(\"Average number of comments on ask posts:\", avg_ask_comments)"
   ]
  },
  {
   "cell_type": "code",
   "execution_count": 18,
   "metadata": {},
   "outputs": [
    {
     "name": "stdout",
     "output_type": "stream",
     "text": [
      "Average number of comments on show posts: 10\n"
     ]
    }
   ],
   "source": [
    "# Finding the average number of show comments\n",
    "total_show_comments = 0\n",
    "\n",
    "for row in show_posts:\n",
    "    comments = int(row[4])\n",
    "    total_show_comments += comments\n",
    "\n",
    "avg_show_comments = round(total_show_comments / len(show_posts))\n",
    "\n",
    "print(\"Average number of comments on show posts:\", avg_show_comments)"
   ]
  },
  {
   "cell_type": "markdown",
   "metadata": {},
   "source": [
    "On average ask posts have more comments per post that show posts. Ask posts have 14 comments and show posts have 10 comments. This can be caused by the fact that when people are asking for and advice HN users are helping them to find the solution, thus more commenting. \n",
    "\n",
    "Since the ask posts are recieving more comments, I will focus on those type of posts from now on. Next step is to determine whterher the certain times are more likely to attract comments.\n",
    "\n",
    "## Ask Posts and Comments by Hour "
   ]
  },
  {
   "cell_type": "code",
   "execution_count": 19,
   "metadata": {},
   "outputs": [],
   "source": [
    "import datetime as dt #importing datetime module"
   ]
  },
  {
   "cell_type": "code",
   "execution_count": 37,
   "metadata": {},
   "outputs": [
    {
     "name": "stdout",
     "output_type": "stream",
     "text": [
      "[['8/16/2016 9:55', 6], ['11/22/2015 13:43', 29], ['5/2/2016 10:14', 1]]\n"
     ]
    }
   ],
   "source": [
    "result_list = [] #list of lists containing date created and no. of comments\n",
    "\n",
    "for row in ask_posts:\n",
    "    created_at = row[6]\n",
    "    n_comments = int(row[4])\n",
    "    result_list.append([created_at, n_comments])\n",
    "    \n",
    "print(result_list[:3])"
   ]
  },
  {
   "cell_type": "code",
   "execution_count": 36,
   "metadata": {},
   "outputs": [],
   "source": [
    "counts_by_hour = {}\n",
    "comments_by_hour = {}\n",
    "\n",
    "for row in result_list:\n",
    "    date_str = row[0]\n",
    "    comment = row[1]\n",
    "    date_dt = dt.datetime.strptime(date_str,\"%m/%d/%Y %H:%M\")\n",
    "    hour = date_dt.strftime(\"%H\")\n",
    "    \n",
    "    if hour not in counts_by_hour:\n",
    "        counts_by_hour[hour] = 1\n",
    "        comments_by_hour[hour] = comment\n",
    "    else:\n",
    "        counts_by_hour[hour] += 1\n",
    "        comments_by_hour[hour] += comment"
   ]
  },
  {
   "cell_type": "code",
   "execution_count": 41,
   "metadata": {
    "scrolled": true
   },
   "outputs": [
    {
     "name": "stdout",
     "output_type": "stream",
     "text": [
      "Total number of comments in ask posts: 24483\n",
      "Check if the number of comments in dictionary is the same: 24483\n"
     ]
    }
   ],
   "source": [
    "print(\"Total number of comments in ask posts:\", total_ask_comments)\n",
    "print(\"Check if the number of comments in dictionary is the same:\",sum(comments_by_hour.values()))"
   ]
  },
  {
   "cell_type": "code",
   "execution_count": 50,
   "metadata": {},
   "outputs": [],
   "source": [
    "avg_by_hour = []\n",
    "\n",
    "for hour in comments_by_hour:\n",
    "    avg_by_hour.append([hour, round(comments_by_hour[hour] / counts_by_hour[hour])])"
   ]
  },
  {
   "cell_type": "code",
   "execution_count": 53,
   "metadata": {},
   "outputs": [
    {
     "name": "stdout",
     "output_type": "stream",
     "text": [
      "[[6, '09'], [15, '13'], [13, '10'], [13, '14'], [17, '16'], [8, '23'], [9, '12'], [11, '17'], [39, '15'], [16, '21'], [22, '20'], [24, '02'], [13, '18'], [8, '03'], [10, '05'], [11, '19'], [11, '01'], [7, '22'], [10, '08'], [7, '04'], [8, '00'], [9, '06'], [8, '07'], [11, '11']]\n"
     ]
    }
   ],
   "source": [
    "swap_avg_by_hour = []\n",
    "\n",
    "for row in avg_by_hour:\n",
    "    swap_avg_by_hour.append([row[1], row[0]])\n",
    "\n",
    "print(swap_avg_by_hour)"
   ]
  },
  {
   "cell_type": "code",
   "execution_count": 64,
   "metadata": {},
   "outputs": [
    {
     "name": "stdout",
     "output_type": "stream",
     "text": [
      "Top 5 Hours for Ask Posts Comments\n",
      "15:00: 39 average comments per post\n",
      "02:00: 24 average comments per post\n",
      "20:00: 22 average comments per post\n",
      "16:00: 17 average comments per post\n",
      "21:00: 16 average comments per post\n"
     ]
    }
   ],
   "source": [
    "sorted_swap = sorted(swap_avg_by_hour, reverse = True)\n",
    "\n",
    "print(\"Top 5 Hours for Ask Posts Comments\")\n",
    "\n",
    "for row in sorted_swap[:5]:\n",
    "    template = \"{hour}:00: {average} average comments per post\"\n",
    "    output = template.format(hour = row[1],average = row[0])\n",
    "    print(output)\n",
    "    "
   ]
  },
  {
   "cell_type": "markdown",
   "metadata": {},
   "source": [
    "The time zone of creating comments is Eastern Time in the US. To convert it to CET time we need to add 6 hours."
   ]
  },
  {
   "cell_type": "code",
   "execution_count": 71,
   "metadata": {},
   "outputs": [
    {
     "name": "stdout",
     "output_type": "stream",
     "text": [
      "Top 5 Hours for Ask Posts Comments - CET\n",
      "21:00: 39 average comments per post\n",
      "08:00: 24 average comments per post\n",
      "02:00: 22 average comments per post\n",
      "22:00: 17 average comments per post\n",
      "03:00: 16 average comments per post\n"
     ]
    }
   ],
   "source": [
    "sorted_swap_cet = []\n",
    "\n",
    "for row in sorted_swap[:5]:\n",
    "    hour_str = row[1]\n",
    "    hour_dt = dt.datetime.strptime(hour_str,\"%H\")\n",
    "    hour_cet = hour_dt + dt.timedelta(hours=6)\n",
    "    hour_cet_str = hour_cet.strftime(\"%H\")\n",
    "    sorted_swap_cet.append([row[0],hour_cet_str])\n",
    "\n",
    "print(\"Top 5 Hours for Ask Posts Comments - CET\")\n",
    "\n",
    "for row in sorted_swap_cet[:5]:\n",
    "    template = \"{hour}:00: {average} average comments per post\"\n",
    "    output = template.format(hour = row[1],average = row[0])\n",
    "    print(output)"
   ]
  }
 ],
 "metadata": {
  "kernelspec": {
   "display_name": "Python 3",
   "language": "python",
   "name": "python3"
  },
  "language_info": {
   "codemirror_mode": {
    "name": "ipython",
    "version": 3
   },
   "file_extension": ".py",
   "mimetype": "text/x-python",
   "name": "python",
   "nbconvert_exporter": "python",
   "pygments_lexer": "ipython3",
   "version": "3.8.2"
  }
 },
 "nbformat": 4,
 "nbformat_minor": 2
}
