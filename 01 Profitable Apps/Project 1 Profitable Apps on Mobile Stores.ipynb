{
 "cells": [
  {
   "cell_type": "markdown",
   "metadata": {},
   "source": [
    "# Profitable App Profiles for the App Store and Google Play Markets\n",
    "\n",
    "This project is part of the [Dataquest.io](https://www.dataquest.io) guided project. The goal is to find the profitable app profiles on both most popular mobile platforms – App Store and Google Play Markets.\n",
    "\n",
    "My goal is to put into practice all the knowledge I gained in the frist steps of my *Data Analyst in Python path.* The first couse of the path was focusing on:\n",
    "- Introduction to Python\n",
    "    - Variables & Data Types\n",
    "    - Lists, Dictionaries, Tuples\n",
    "    - Loops, Functions, Conditional Statemens\n",
    "- Introduction to Jupyter Notebook\n",
    "\n",
    "**The assignment** of the project is to help developers understand what type of apps are likely to attract more users on Google Play and the App Store."
   ]
  },
  {
   "cell_type": "markdown",
   "metadata": {},
   "source": [
    "## The datasets\n",
    "This project use two publicly avaiable datasets:\n",
    "- [Kaggle Dataset](https://www.kaggle.com/lava18/google-play-store-apps) containing data about approximately 10,000 Android apps from Google Play; the data was collected in August 2018. You can download the data set directly from this [link](https://dq-content.s3.amazonaws.com/350/googleplaystore.csv).\n",
    "- [Kaggle Dataset](https://www.kaggle.com/ramamet4/app-store-apple-data-set-10k-apps) containing data about approximately 7,000 iOS apps from the App Store; the data was collected in July 2017. You can download the data set directly from this [link](https://dq-content.s3.amazonaws.com/350/AppleStore.csv)\n"
   ]
  },
  {
   "cell_type": "code",
   "execution_count": 2,
   "metadata": {},
   "outputs": [],
   "source": [
    "from csv import reader\n",
    "\n",
    "# Opening the App store Dataset and creating list of lists\n",
    "opened_file = open(\"AppleStore.csv\")\n",
    "read_file = reader(opened_file)\n",
    "applestore = list(read_file)\n",
    "apple_header = applestore[0] # list containing header row\n",
    "apple = applestore[1:] #list containg data rows\n",
    "\n",
    "# Opening the Google Play store and creating list of lists\n",
    "opened_file = open(\"googleplaystore.csv\")\n",
    "read_file = reader(opened_file)\n",
    "googleplay = list(read_file)\n",
    "google_header = googleplay[0] # list containing header row\n",
    "google = googleplay[1:] #list containg data rows"
   ]
  },
  {
   "cell_type": "markdown",
   "metadata": {},
   "source": [
    "Function explore_data created to easily explore datasets."
   ]
  },
  {
   "cell_type": "code",
   "execution_count": 3,
   "metadata": {},
   "outputs": [],
   "source": [
    "def explore_data(dataset, start, end, rows_and_columns=False):\n",
    "    dataset_slice = dataset[start:end]    \n",
    "    for row in dataset_slice:\n",
    "        print(row)\n",
    "        print('\\n') # adds a new (empty) line after each row\n",
    "\n",
    "    if rows_and_columns:\n",
    "        print('Number of rows:', len(dataset))\n",
    "        print('Number of columns:', len(dataset[0]))"
   ]
  },
  {
   "cell_type": "markdown",
   "metadata": {},
   "source": [
    "### Exploring the datasets\n",
    "**Apple Store**"
   ]
  },
  {
   "cell_type": "code",
   "execution_count": 4,
   "metadata": {},
   "outputs": [
    {
     "name": "stdout",
     "output_type": "stream",
     "text": [
      "['id', 'track_name', 'size_bytes', 'currency', 'price', 'rating_count_tot', 'rating_count_ver', 'user_rating', 'user_rating_ver', 'ver', 'cont_rating', 'prime_genre', 'sup_devices.num', 'ipadSc_urls.num', 'lang.num', 'vpp_lic']\n",
      "\n",
      "\n",
      "['284882215', 'Facebook', '389879808', 'USD', '0.0', '2974676', '212', '3.5', '3.5', '95.0', '4+', 'Social Networking', '37', '1', '29', '1']\n",
      "\n",
      "\n",
      "['389801252', 'Instagram', '113954816', 'USD', '0.0', '2161558', '1289', '4.5', '4.0', '10.23', '12+', 'Photo & Video', '37', '0', '29', '1']\n",
      "\n",
      "\n",
      "['529479190', 'Clash of Clans', '116476928', 'USD', '0.0', '2130805', '579', '4.5', '4.5', '9.24.12', '9+', 'Games', '38', '5', '18', '1']\n",
      "\n",
      "\n",
      "['420009108', 'Temple Run', '65921024', 'USD', '0.0', '1724546', '3842', '4.5', '4.0', '1.6.2', '9+', 'Games', '40', '5', '1', '1']\n",
      "\n",
      "\n",
      "['284035177', 'Pandora - Music & Radio', '130242560', 'USD', '0.0', '1126879', '3594', '4.0', '4.5', '8.4.1', '12+', 'Music', '37', '4', '1', '1']\n",
      "\n",
      "\n",
      "Number of rows: 7197\n",
      "Number of columns: 16\n"
     ]
    }
   ],
   "source": [
    "print(apple_header)\n",
    "print('\\n')\n",
    "explore_data(apple,0,5,True)"
   ]
  },
  {
   "cell_type": "markdown",
   "metadata": {},
   "source": [
    "The Apple Store datasets have 7197 apps with 16 columns. For the purpose of this analysis colums c"
   ]
  },
  {
   "cell_type": "markdown",
   "metadata": {},
   "source": [
    "**Google Play**"
   ]
  },
  {
   "cell_type": "code",
   "execution_count": 5,
   "metadata": {},
   "outputs": [
    {
     "name": "stdout",
     "output_type": "stream",
     "text": [
      "['App', 'Category', 'Rating', 'Reviews', 'Size', 'Installs', 'Type', 'Price', 'Content Rating', 'Genres', 'Last Updated', 'Current Ver', 'Android Ver']\n",
      "\n",
      "\n",
      "['Photo Editor & Candy Camera & Grid & ScrapBook', 'ART_AND_DESIGN', '4.1', '159', '19M', '10,000+', 'Free', '0', 'Everyone', 'Art & Design', 'January 7, 2018', '1.0.0', '4.0.3 and up']\n",
      "\n",
      "\n",
      "['Coloring book moana', 'ART_AND_DESIGN', '3.9', '967', '14M', '500,000+', 'Free', '0', 'Everyone', 'Art & Design;Pretend Play', 'January 15, 2018', '2.0.0', '4.0.3 and up']\n",
      "\n",
      "\n",
      "['U Launcher Lite – FREE Live Cool Themes, Hide Apps', 'ART_AND_DESIGN', '4.7', '87510', '8.7M', '5,000,000+', 'Free', '0', 'Everyone', 'Art & Design', 'August 1, 2018', '1.2.4', '4.0.3 and up']\n",
      "\n",
      "\n",
      "['Sketch - Draw & Paint', 'ART_AND_DESIGN', '4.5', '215644', '25M', '50,000,000+', 'Free', '0', 'Teen', 'Art & Design', 'June 8, 2018', 'Varies with device', '4.2 and up']\n",
      "\n",
      "\n",
      "['Pixel Draw - Number Art Coloring Book', 'ART_AND_DESIGN', '4.3', '967', '2.8M', '100,000+', 'Free', '0', 'Everyone', 'Art & Design;Creativity', 'June 20, 2018', '1.1', '4.4 and up']\n",
      "\n",
      "\n",
      "Number of rows: 10841\n",
      "Number of columns: 13\n"
     ]
    }
   ],
   "source": [
    "print(google_header)\n",
    "print('\\n')\n",
    "explore_data(google,0,5,True)"
   ]
  },
  {
   "cell_type": "markdown",
   "metadata": {},
   "source": [
    "On the [Kaggle discussion](https://www.kaggle.com/lava18/google-play-store-apps/discussion/66015) a mistake in the Google Play Store dataset is reported. Apparently one app is missing it's rating entry. To determine what is the index row in the google dataset and what app is missing the rating following code will give us the answer."
   ]
  },
  {
   "cell_type": "code",
   "execution_count": 6,
   "metadata": {},
   "outputs": [
    {
     "name": "stdout",
     "output_type": "stream",
     "text": [
      "Missing entry on row index:  10472\n",
      "Lenght of the row:  12\n",
      "Lenght of the header:  13\n",
      "['Life Made WI-Fi Touchscreen Photo Frame', '1.9', '19', '3.0M', '1,000+', 'Free', '0', 'Everyone', '', 'February 11, 2018', '1.0.19', '4.0 and up']\n"
     ]
    }
   ],
   "source": [
    "for row in google:\n",
    "    if len(row) != len(google_header):\n",
    "        print(\"Missing entry on row index: \",google.index(row))\n",
    "        print(\"Lenght of the row: \",len(row))\n",
    "        print(\"Lenght of the header: \", len(google_header))\n",
    "        print(row)\n",
    "        "
   ]
  },
  {
   "cell_type": "markdown",
   "metadata": {},
   "source": [
    "The error row is on index number 10472, app name is *'Life Made WI-Fi Touchscreen Photo Frame'*. Let's delete this row to clean the data. Once the row is deleted check that we have correct dataset lenght. It should be 10840 since before it was 10841. The app name shoudn't match our finiding."
   ]
  },
  {
   "cell_type": "code",
   "execution_count": 7,
   "metadata": {},
   "outputs": [],
   "source": [
    "del google[10472]"
   ]
  },
  {
   "cell_type": "code",
   "execution_count": 8,
   "metadata": {},
   "outputs": [],
   "source": [
    "for row in google:\n",
    "    name = row[0]\n",
    "    if name == 'Life Made WI-Fi Touchscreen Photo Frame':\n",
    "        print(\"Error row was not deleted\")"
   ]
  },
  {
   "cell_type": "code",
   "execution_count": 9,
   "metadata": {},
   "outputs": [
    {
     "name": "stdout",
     "output_type": "stream",
     "text": [
      "Actual Google dataset lenght:  10840\n"
     ]
    }
   ],
   "source": [
    "print(\"Actual Google dataset lenght: \",len(google))"
   ]
  },
  {
   "cell_type": "markdown",
   "metadata": {},
   "source": [
    "## Deleting duplicates\n",
    "As mentioned on the [Kaggle discussion](https://www.kaggle.com/lava18/google-play-store-apps/discussion/67894), some apps in the Google Play store dataset have duplicite entries. Let's check (randomly) if Facebook have duplicties, since it's one of the widely used apps."
   ]
  },
  {
   "cell_type": "code",
   "execution_count": 10,
   "metadata": {},
   "outputs": [
    {
     "name": "stdout",
     "output_type": "stream",
     "text": [
      "['Facebook', 'SOCIAL', '4.1', '78158306', 'Varies with device', '1,000,000,000+', 'Free', '0', 'Teen', 'Social', 'August 3, 2018', 'Varies with device', 'Varies with device']\n",
      "Index row:  2544\n",
      "['Facebook', 'SOCIAL', '4.1', '78128208', 'Varies with device', '1,000,000,000+', 'Free', '0', 'Teen', 'Social', 'August 3, 2018', 'Varies with device', 'Varies with device']\n",
      "Index row:  3943\n"
     ]
    }
   ],
   "source": [
    "for row in google:\n",
    "    name = row[0]\n",
    "    if name == \"Facebook\":\n",
    "        print(row)\n",
    "        print(\"Index row: \",google.index(row))"
   ]
  },
  {
   "cell_type": "markdown",
   "metadata": {},
   "source": [
    "Finding apps randomly would consume lot of time. Instead I have created two lists. One contains unique apps and the second contains duplicates."
   ]
  },
  {
   "cell_type": "code",
   "execution_count": 11,
   "metadata": {},
   "outputs": [
    {
     "name": "stdout",
     "output_type": "stream",
     "text": [
      "Number of duplicate apps:  1181\n",
      "Number of unique apps:  9659\n",
      "Control check:  10840\n",
      "\n",
      "\n",
      "Examples of duplicates: ['Quick PDF Scanner + OCR FREE', 'Box', 'Google My Business', 'ZOOM Cloud Meetings', 'join.me - Simple Meetings', 'Box', 'Zenefits', 'Google Ads', 'Google My Business', 'Slack']\n"
     ]
    }
   ],
   "source": [
    "duplicates = []\n",
    "unique_apps = []\n",
    "\n",
    "for row in google:\n",
    "    name = row[0]\n",
    "    if name in unique_apps:\n",
    "        duplicates.append(name)\n",
    "    else:\n",
    "        unique_apps.append(name)\n",
    "        \n",
    "print(\"Number of duplicate apps: \", len(duplicates))\n",
    "print(\"Number of unique apps: \", len(unique_apps))\n",
    "print(\"Control check: \", len(duplicates + unique_apps))\n",
    "print('\\n')\n",
    "print(\"Examples of duplicates:\", duplicates[:10])"
   ]
  },
  {
   "cell_type": "markdown",
   "metadata": {},
   "source": [
    "The data from the Facebook example show that the number of reviews differ. This will be used as a criterion to delete the duplicates. In the Google dataset we keep only the app with the highest number of reviews. \n",
    "\n",
    "Let's create a dictionary that will store unique apps with the highest number of reviews"
   ]
  },
  {
   "cell_type": "code",
   "execution_count": 12,
   "metadata": {},
   "outputs": [],
   "source": [
    "reviews_max = {}\n",
    "\n",
    "for row in google:\n",
    "    name = row[0]\n",
    "    n_reviews = float(row[3])\n",
    "    if name in reviews_max and reviews_max[name] < n_reviews:\n",
    "        reviews_max[name] = n_reviews\n",
    "    if name not in reviews_max:\n",
    "        reviews_max[name] = n_reviews\n"
   ]
  },
  {
   "cell_type": "markdown",
   "metadata": {},
   "source": [
    "Inspecting the dictionary to make sure it contains all 9659 apps."
   ]
  },
  {
   "cell_type": "code",
   "execution_count": 13,
   "metadata": {},
   "outputs": [
    {
     "name": "stdout",
     "output_type": "stream",
     "text": [
      "Dictionary lenght:  9659\n"
     ]
    }
   ],
   "source": [
    "print(\"Dictionary lenght: \", len(reviews_max))"
   ]
  },
  {
   "cell_type": "markdown",
   "metadata": {},
   "source": [
    "The dictionary lenght matches the lenght of the unique apps. Let's proceed to deleteding the duplicates."
   ]
  },
  {
   "cell_type": "code",
   "execution_count": 14,
   "metadata": {},
   "outputs": [],
   "source": [
    "google_clean = [] #empty list for clean data\n",
    "google_already_added = [] #empty list for the duplicates\n",
    "\n",
    "for row in google:\n",
    "    name = row[0]\n",
    "    n_reviews = float(row[3])\n",
    "    if (n_reviews == reviews_max[name]) and (name not in google_already_added):\n",
    "        google_clean.append(row)\n",
    "        google_already_added.append(name)"
   ]
  },
  {
   "cell_type": "markdown",
   "metadata": {},
   "source": [
    "Inspecting the lists to see whether the lenght is matching our expectations. Google_clean should contain 9659 rows."
   ]
  },
  {
   "cell_type": "code",
   "execution_count": 15,
   "metadata": {},
   "outputs": [
    {
     "name": "stdout",
     "output_type": "stream",
     "text": [
      "Lenght of clean dataset:  9659\n"
     ]
    }
   ],
   "source": [
    "print(\"Lenght of clean dataset: \", len(google_clean))"
   ]
  },
  {
   "cell_type": "markdown",
   "metadata": {},
   "source": [
    "Checking for duplicates in the App Store dataset"
   ]
  },
  {
   "cell_type": "code",
   "execution_count": 16,
   "metadata": {},
   "outputs": [
    {
     "name": "stdout",
     "output_type": "stream",
     "text": [
      "Number of duplicate apps:  0\n",
      "Number of unique apps:  7195\n",
      "Control check:  7195\n"
     ]
    }
   ],
   "source": [
    "duplicates_ios = []\n",
    "unique_apps_ios = []\n",
    "\n",
    "for row in apple:\n",
    "    name = row[1]\n",
    "    if name in unique_apps_ios:\n",
    "        duplicates.append(name)\n",
    "    else:\n",
    "        unique_apps_ios.append(name)\n",
    "        \n",
    "print(\"Number of duplicate apps: \", len(duplicates_ios))\n",
    "print(\"Number of unique apps: \", len(unique_apps_ios))\n",
    "print(\"Control check: \", len(duplicates_ios + unique_apps_ios))"
   ]
  },
  {
   "cell_type": "markdown",
   "metadata": {},
   "source": [
    "There are no duplicities in the App Store dataset.\n",
    "\n",
    "## Removing Non-English Apps\n",
    "The imaginary company from the assigments focuses on developing apps in English. The goal is to analyze apps that are directed toward an English-speaking audience. Some of the app names are suggesting that they are not directed towards an English-speaking audience. See examples below:"
   ]
  },
  {
   "cell_type": "code",
   "execution_count": 17,
   "metadata": {},
   "outputs": [
    {
     "name": "stdout",
     "output_type": "stream",
     "text": [
      "Name:  爱奇艺PPS -《欢乐颂2》电视剧热播\n",
      "Name:  【脱出ゲーム】絶対に最後までプレイしないで 〜謎解き＆ブロックパズル〜\n",
      "\n",
      "\n",
      "Name:  中国語 AQリスニング\n",
      "Name:  لعبة تقدر تربح DZ\n"
     ]
    }
   ],
   "source": [
    "print(\"Name: \", apple[813][1])\n",
    "print(\"Name: \", apple[6731][1])\n",
    "print('\\n')\n",
    "print(\"Name: \", google_clean[4412][0])\n",
    "print(\"Name: \", google_clean[7940][0])"
   ]
  },
  {
   "cell_type": "markdown",
   "metadata": {},
   "source": [
    "To clean both datasets we need to get rid of the non-English characters. The commonly used English text characters range 0 to 127 in [ASCII](https://en.wikipedia.org/wiki/ASCII). If the number in the app name is equal or less than 127, then the character belongs to the set of common English characters."
   ]
  },
  {
   "cell_type": "code",
   "execution_count": 18,
   "metadata": {
    "scrolled": true
   },
   "outputs": [
    {
     "name": "stdout",
     "output_type": "stream",
     "text": [
      "True\n",
      "False\n",
      "True\n",
      "True\n"
     ]
    }
   ],
   "source": [
    "def is_english(string):\n",
    "    non_ascii = 0\n",
    "    \n",
    "    for character in string:\n",
    "        if ord(character) > 127:\n",
    "            non_ascii += 1\n",
    "            \n",
    "    if non_ascii > 3:\n",
    "        return False\n",
    "    else:\n",
    "        return True\n",
    "\n",
    "print(is_english(\"Instagram\"))\n",
    "print(is_english(\"爱奇艺PPS -《欢乐颂2》电视剧热播\"))\n",
    "print(is_english(\"Docs To Go™ Free Office Suite\"))\n",
    "print(is_english(\"Instachat 😜\"))"
   ]
  },
  {
   "cell_type": "markdown",
   "metadata": {},
   "source": [
    "The app *Docs To Go™ Free Office Suite* is English but because of the ™ is part of the name the function evaluates it as False. To reduce data lost we will remove only apps that have more than 3 non ASCII characters."
   ]
  },
  {
   "cell_type": "code",
   "execution_count": 19,
   "metadata": {},
   "outputs": [
    {
     "name": "stdout",
     "output_type": "stream",
     "text": [
      "Number of English apps in App Store:  6183\n",
      "Control count for App Store:  7197\n",
      "Expected count for App Store:  7197\n",
      "Number of English apps in Google Play:  9614\n",
      "Control count for Google Play:  9659\n",
      "Expected count for Google Play:  9659\n"
     ]
    }
   ],
   "source": [
    "apple_ascii = []\n",
    "apple_non_ascii = []\n",
    "google_ascii = []\n",
    "google_non_ascii =[]\n",
    "\n",
    "for row in apple:\n",
    "    name = row[1]\n",
    "    if is_english(name) == True:\n",
    "        apple_ascii.append(row)\n",
    "    else:\n",
    "        apple_non_ascii.append(row)\n",
    "\n",
    "for row in google_clean:\n",
    "    name = row[0]\n",
    "    if is_english(name) == True:\n",
    "        google_ascii.append(row)\n",
    "    else:\n",
    "        google_non_ascii.append(row)\n",
    "\n",
    "# Printing results and control\n",
    "print(\"Number of English apps in App Store: \", len(apple_ascii))\n",
    "print(\"Control count for App Store: \", len(apple_ascii) + len(apple_non_ascii))\n",
    "print(\"Expected count for App Store: \", len(apple))\n",
    "print(\"Number of English apps in Google Play: \", len(google_ascii))\n",
    "print(\"Control count for Google Play: \", len(google_ascii) + len(google_non_ascii))\n",
    "print(\"Expected count for Google Play: \", len(google_clean))"
   ]
  },
  {
   "cell_type": "markdown",
   "metadata": {},
   "source": [
    "There are 6183 English apps in the App Store and 9614 English apps in Google Play. The assignments later specifty that our developers are building only apps that are free to download and use. In the next step we will isolate only Free apps."
   ]
  },
  {
   "cell_type": "markdown",
   "metadata": {},
   "source": [
    "## Isolating free apps"
   ]
  },
  {
   "cell_type": "code",
   "execution_count": 20,
   "metadata": {},
   "outputs": [
    {
     "name": "stdout",
     "output_type": "stream",
     "text": [
      "Number of English, free apps in App Store:  3222\n",
      "Number of English, free apps in Google Play:  8863\n"
     ]
    }
   ],
   "source": [
    "apple_free = []\n",
    "google_free = []\n",
    "\n",
    "for row in apple_ascii:\n",
    "    price = float(row[4])\n",
    "    if price == 0.0:\n",
    "        apple_free.append(row)\n",
    "        \n",
    "for row in google_ascii:\n",
    "    price_type = row[6]\n",
    "    if price_type == \"Free\":\n",
    "        google_free.append(row)\n",
    "        \n",
    "print(\"Number of English, free apps in App Store: \", len(apple_free))\n",
    "print(\"Number of English, free apps in Google Play: \", len(google_free))"
   ]
  },
  {
   "cell_type": "markdown",
   "metadata": {},
   "source": [
    "As the assignment states our developers are creating apps that are free to download and use. The revenue is created by the in-app adds. The more people are using the app, more people are seeing the add, the bigger the revenue is. \n",
    "\n",
    "To minimize risks and overhead, our validation strategy for an app idea is comprised of three steps:\n",
    "\n",
    "1. Build a minimal Android version of the app, and add it to Google Play.\n",
    "2. If the app has a good response from users, we develop it further.\n",
    "3. If the app is profitable after six months, we build an iOS version of the app and add it to the App Store.\n",
    "\n",
    "To further analyze we are looking for apps that are successful on both mobile platforms\n",
    "\n",
    "## Most common app genres"
   ]
  },
  {
   "cell_type": "markdown",
   "metadata": {},
   "source": [
    "To analyze the most common app genres we will work with column prime_genre in the App Store dataset and with columns Genres and Category in the Google Play Store dataset. \n",
    "\n",
    "To know what are the most popular apps we will create frequency tables."
   ]
  },
  {
   "cell_type": "code",
   "execution_count": 21,
   "metadata": {},
   "outputs": [],
   "source": [
    "def freq_table(dataset, index):\n",
    "    frequency_table = {}\n",
    "    total = 0\n",
    "    \n",
    "    for row in dataset:\n",
    "        total += 1\n",
    "        data_point = row[index]\n",
    "        if data_point in frequency_table:\n",
    "            frequency_table[data_point] += 1\n",
    "        else:\n",
    "            frequency_table[data_point] = 1\n",
    "            \n",
    "    table_percentages = {}\n",
    "    for key in frequency_table:\n",
    "        percentage = (frequency_table[key] / total) * 100\n",
    "        table_percentages[key] = percentage\n",
    "    \n",
    "    return table_percentages\n",
    "\n",
    "def display_table(dataset, index):\n",
    "    table = freq_table(dataset, index)\n",
    "    table_display = []\n",
    "    for key in table:\n",
    "        key_val_as_tuple = (table[key], key)\n",
    "        table_display.append(key_val_as_tuple)\n",
    "\n",
    "    table_sorted = sorted(table_display, reverse = True)\n",
    "    for entry in table_sorted:\n",
    "        print(entry[1], ':', entry[0])"
   ]
  },
  {
   "cell_type": "markdown",
   "metadata": {},
   "source": [
    "### Frequency table for the App Store\n",
    "Displaying the frequency talbe for free, english apps in the Apple App Store."
   ]
  },
  {
   "cell_type": "code",
   "execution_count": 22,
   "metadata": {
    "scrolled": true
   },
   "outputs": [
    {
     "name": "stdout",
     "output_type": "stream",
     "text": [
      "Games : 58.16263190564867\n",
      "Entertainment : 7.883302296710118\n",
      "Photo & Video : 4.9658597144630665\n",
      "Education : 3.662321539416512\n",
      "Social Networking : 3.2898820608317814\n",
      "Shopping : 2.60707635009311\n",
      "Utilities : 2.5139664804469275\n",
      "Sports : 2.1415270018621975\n",
      "Music : 2.0484171322160147\n",
      "Health & Fitness : 2.0173805090006205\n",
      "Productivity : 1.7380509000620732\n",
      "Lifestyle : 1.5828677839851024\n",
      "News : 1.3345747982619491\n",
      "Travel : 1.2414649286157666\n",
      "Finance : 1.1173184357541899\n",
      "Weather : 0.8690254500310366\n",
      "Food & Drink : 0.8069522036002483\n",
      "Reference : 0.5586592178770949\n",
      "Business : 0.5276225946617008\n",
      "Book : 0.4345127250155183\n",
      "Navigation : 0.186219739292365\n",
      "Medical : 0.186219739292365\n",
      "Catalogs : 0.12414649286157665\n"
     ]
    }
   ],
   "source": [
    "display_table(apple_free, 11) # Display column prime_genre in App Store"
   ]
  },
  {
   "cell_type": "markdown",
   "metadata": {},
   "source": [
    "The most common app genre in the App store is **Games** with more than half of the occurences (58%). Followed by Entertainment 7.8% and Photo & Video 4.9%.\n",
    "\n",
    "Most of the free English apps are designed for fun (games, entertainment, photo & video, social networking)."
   ]
  },
  {
   "cell_type": "markdown",
   "metadata": {},
   "source": [
    "### Frequency table for the Google Play\n",
    "Displaying the frequency talbe for free, english apps in the Google Play Store."
   ]
  },
  {
   "cell_type": "code",
   "execution_count": 23,
   "metadata": {},
   "outputs": [
    {
     "name": "stdout",
     "output_type": "stream",
     "text": [
      "Tools : 8.450863138892023\n",
      "Entertainment : 6.070179397495204\n",
      "Education : 5.348076272142616\n",
      "Business : 4.592124562789123\n",
      "Productivity : 3.8925871601038025\n",
      "Lifestyle : 3.8925871601038025\n",
      "Finance : 3.7007785174320205\n",
      "Medical : 3.5315355974275078\n",
      "Sports : 3.463838429425702\n",
      "Personalization : 3.317161232088458\n",
      "Communication : 3.2381812027530184\n",
      "Action : 3.102786866749408\n",
      "Health & Fitness : 3.0802211440821394\n",
      "Photography : 2.944826808078529\n",
      "News & Magazines : 2.798149610741284\n",
      "Social : 2.6627552747376737\n",
      "Travel & Local : 2.324269434728647\n",
      "Shopping : 2.245289405393208\n",
      "Books & Reference : 2.1437436533904997\n",
      "Simulation : 2.042197901387792\n",
      "Dating : 1.8616721200496444\n",
      "Arcade : 1.8503892587160102\n",
      "Video Players & Editors : 1.771409229380571\n",
      "Casual : 1.7601263680469368\n",
      "Maps & Navigation : 1.399074805370642\n",
      "Food & Drink : 1.241114746699763\n",
      "Puzzle : 1.128286133363421\n",
      "Racing : 0.9928917973598104\n",
      "Role Playing : 0.9364774906916393\n",
      "Libraries & Demo : 0.9364774906916393\n",
      "Auto & Vehicles : 0.9251946293580051\n",
      "Strategy : 0.9026289066907368\n",
      "House & Home : 0.8236488773552973\n",
      "Weather : 0.8010831546880289\n",
      "Events : 0.7108202640189552\n",
      "Adventure : 0.6769716800180525\n",
      "Comics : 0.6092745120162473\n",
      "Beauty : 0.5979916506826132\n",
      "Art & Design : 0.5979916506826132\n",
      "Parenting : 0.4964458986799052\n",
      "Card : 0.4513144533453684\n",
      "Casino : 0.42874873067809993\n",
      "Trivia : 0.4174658693444658\n",
      "Educational;Education : 0.3949001466771973\n",
      "Board : 0.38361728534356315\n",
      "Educational : 0.37233442400992894\n",
      "Education;Education : 0.33848584000902626\n",
      "Word : 0.25950581067358686\n",
      "Casual;Pretend Play : 0.2369400880063184\n",
      "Music : 0.20309150400541578\n",
      "Racing;Action & Adventure : 0.16924292000451313\n",
      "Puzzle;Brain Games : 0.16924292000451313\n",
      "Entertainment;Music & Video : 0.16924292000451313\n",
      "Casual;Brain Games : 0.1353943360036105\n",
      "Casual;Action & Adventure : 0.1353943360036105\n",
      "Arcade;Action & Adventure : 0.1241114746699763\n",
      "Action;Action & Adventure : 0.10154575200270789\n",
      "Educational;Pretend Play : 0.09026289066907367\n",
      "Simulation;Action & Adventure : 0.07898002933543948\n",
      "Parenting;Education : 0.07898002933543948\n",
      "Entertainment;Brain Games : 0.07898002933543948\n",
      "Board;Brain Games : 0.07898002933543948\n",
      "Parenting;Music & Video : 0.06769716800180525\n",
      "Educational;Brain Games : 0.06769716800180525\n",
      "Casual;Creativity : 0.06769716800180525\n",
      "Art & Design;Creativity : 0.06769716800180525\n",
      "Education;Pretend Play : 0.05641430666817105\n",
      "Role Playing;Pretend Play : 0.045131445334536835\n",
      "Education;Creativity : 0.045131445334536835\n",
      "Role Playing;Action & Adventure : 0.033848584000902626\n",
      "Puzzle;Action & Adventure : 0.033848584000902626\n",
      "Entertainment;Creativity : 0.033848584000902626\n",
      "Entertainment;Action & Adventure : 0.033848584000902626\n",
      "Educational;Creativity : 0.033848584000902626\n",
      "Educational;Action & Adventure : 0.033848584000902626\n",
      "Education;Music & Video : 0.033848584000902626\n",
      "Education;Brain Games : 0.033848584000902626\n",
      "Education;Action & Adventure : 0.033848584000902626\n",
      "Adventure;Action & Adventure : 0.033848584000902626\n",
      "Video Players & Editors;Music & Video : 0.022565722667268417\n",
      "Sports;Action & Adventure : 0.022565722667268417\n",
      "Simulation;Pretend Play : 0.022565722667268417\n",
      "Puzzle;Creativity : 0.022565722667268417\n",
      "Music;Music & Video : 0.022565722667268417\n",
      "Entertainment;Pretend Play : 0.022565722667268417\n",
      "Casual;Education : 0.022565722667268417\n",
      "Board;Action & Adventure : 0.022565722667268417\n",
      "Video Players & Editors;Creativity : 0.011282861333634209\n",
      "Trivia;Education : 0.011282861333634209\n",
      "Travel & Local;Action & Adventure : 0.011282861333634209\n",
      "Tools;Education : 0.011282861333634209\n",
      "Strategy;Education : 0.011282861333634209\n",
      "Strategy;Creativity : 0.011282861333634209\n",
      "Strategy;Action & Adventure : 0.011282861333634209\n",
      "Simulation;Education : 0.011282861333634209\n",
      "Role Playing;Brain Games : 0.011282861333634209\n",
      "Racing;Pretend Play : 0.011282861333634209\n",
      "Puzzle;Education : 0.011282861333634209\n",
      "Parenting;Brain Games : 0.011282861333634209\n",
      "Music & Audio;Music & Video : 0.011282861333634209\n",
      "Lifestyle;Pretend Play : 0.011282861333634209\n",
      "Lifestyle;Education : 0.011282861333634209\n",
      "Health & Fitness;Education : 0.011282861333634209\n",
      "Health & Fitness;Action & Adventure : 0.011282861333634209\n",
      "Entertainment;Education : 0.011282861333634209\n",
      "Communication;Creativity : 0.011282861333634209\n",
      "Comics;Creativity : 0.011282861333634209\n",
      "Casual;Music & Video : 0.011282861333634209\n",
      "Card;Action & Adventure : 0.011282861333634209\n",
      "Books & Reference;Education : 0.011282861333634209\n",
      "Art & Design;Pretend Play : 0.011282861333634209\n",
      "Art & Design;Action & Adventure : 0.011282861333634209\n",
      "Arcade;Pretend Play : 0.011282861333634209\n",
      "Adventure;Education : 0.011282861333634209\n"
     ]
    }
   ],
   "source": [
    "display_table(google_free, 9 ) # Display column Genres in Play Store"
   ]
  },
  {
   "cell_type": "code",
   "execution_count": 24,
   "metadata": {},
   "outputs": [
    {
     "name": "stdout",
     "output_type": "stream",
     "text": [
      "FAMILY : 18.898792733837304\n",
      "GAME : 9.725826469592688\n",
      "TOOLS : 8.462146000225657\n",
      "BUSINESS : 4.592124562789123\n",
      "LIFESTYLE : 3.9038700214374367\n",
      "PRODUCTIVITY : 3.8925871601038025\n",
      "FINANCE : 3.7007785174320205\n",
      "MEDICAL : 3.5315355974275078\n",
      "SPORTS : 3.396141261423897\n",
      "PERSONALIZATION : 3.317161232088458\n",
      "COMMUNICATION : 3.2381812027530184\n",
      "HEALTH_AND_FITNESS : 3.0802211440821394\n",
      "PHOTOGRAPHY : 2.944826808078529\n",
      "NEWS_AND_MAGAZINES : 2.798149610741284\n",
      "SOCIAL : 2.6627552747376737\n",
      "TRAVEL_AND_LOCAL : 2.335552296062281\n",
      "SHOPPING : 2.245289405393208\n",
      "BOOKS_AND_REFERENCE : 2.1437436533904997\n",
      "DATING : 1.8616721200496444\n",
      "VIDEO_PLAYERS : 1.7939749520478394\n",
      "MAPS_AND_NAVIGATION : 1.399074805370642\n",
      "FOOD_AND_DRINK : 1.241114746699763\n",
      "EDUCATION : 1.1621347173643235\n",
      "ENTERTAINMENT : 0.9590432133589079\n",
      "LIBRARIES_AND_DEMO : 0.9364774906916393\n",
      "AUTO_AND_VEHICLES : 0.9251946293580051\n",
      "HOUSE_AND_HOME : 0.8236488773552973\n",
      "WEATHER : 0.8010831546880289\n",
      "EVENTS : 0.7108202640189552\n",
      "PARENTING : 0.6544059573507841\n",
      "ART_AND_DESIGN : 0.6431230960171499\n",
      "COMICS : 0.6205573733498815\n",
      "BEAUTY : 0.5979916506826132\n"
     ]
    }
   ],
   "source": [
    "display_table(google_free, 1) # Display column Category in Play Store"
   ]
  },
  {
   "cell_type": "markdown",
   "metadata": {},
   "source": [
    "Google play store have more apps that are designed for practical purposes. The inner structure of the Play store is different than in the app store. The categories are showing apps in specific catergories like Games or Social. Genres is showing more granula data. We can tell that the category Games is including genres such as Action, Aracade, Puzzle, etc. "
   ]
  },
  {
   "cell_type": "markdown",
   "metadata": {},
   "source": [
    "## Finding most popular genres\n",
    "We now know what are the most common apps. We would like to know what are the most popular apps in terms of downloads. To find those apps we will use column Installs in the google datasets. App Store does not have such column. As a workaround we use the rating_count_column to get approximate values of downloads. Note that not everyone who downloaded and installed the app also rate it, so the actuall number of installs on App store is most likely higher."
   ]
  },
  {
   "cell_type": "markdown",
   "metadata": {},
   "source": [
    "### App store"
   ]
  },
  {
   "cell_type": "code",
   "execution_count": 25,
   "metadata": {},
   "outputs": [],
   "source": [
    "apple_prime_genres = freq_table(apple_free, 11)"
   ]
  },
  {
   "cell_type": "code",
   "execution_count": 26,
   "metadata": {},
   "outputs": [
    {
     "name": "stdout",
     "output_type": "stream",
     "text": [
      "Social Networking  :  71548\n",
      "Photo & Video  :  28442\n",
      "Games  :  22789\n",
      "Music  :  57327\n",
      "Reference  :  74942\n",
      "Health & Fitness  :  23298\n",
      "Weather  :  52280\n",
      "Utilities  :  18684\n",
      "Travel  :  28244\n",
      "Shopping  :  26920\n",
      "News  :  21248\n",
      "Navigation  :  86090\n",
      "Lifestyle  :  16486\n",
      "Entertainment  :  14030\n",
      "Food & Drink  :  33334\n",
      "Sports  :  23009\n",
      "Book  :  39758\n",
      "Finance  :  31468\n",
      "Education  :  7004\n",
      "Productivity  :  21028\n",
      "Business  :  7491\n",
      "Catalogs  :  4004\n",
      "Medical  :  612\n"
     ]
    }
   ],
   "source": [
    "for genre in apple_prime_genres:\n",
    "    total = 0\n",
    "    len_genre = 0\n",
    "    for row in apple_free:\n",
    "        genre_app = row[11]\n",
    "        if genre_app == genre:\n",
    "            n_ratings = float(row[5])\n",
    "            total += n_ratings\n",
    "            len_genre +=1\n",
    "    avg_n_rating = total / len_genre\n",
    "    print(genre, \" : \", round(avg_n_rating))\n",
    "            \n",
    "    "
   ]
  },
  {
   "cell_type": "markdown",
   "metadata": {},
   "source": [
    "Let's analyze the data even more and see what apps are under each genre. We will focus on the apps that have a lot of average number of ratins to find long tail values."
   ]
  },
  {
   "cell_type": "code",
   "execution_count": 27,
   "metadata": {},
   "outputs": [],
   "source": [
    "def inspect_genre(dataset, string, index_name, index_n_rating, index_genre):\n",
    "    for row in dataset:\n",
    "        name = row[index_name]\n",
    "        n_rating = row[index_n_rating]\n",
    "        genre = row[index_genre]\n",
    "        if genre == string:\n",
    "            print(name, \":\", n_rating)"
   ]
  },
  {
   "cell_type": "code",
   "execution_count": 28,
   "metadata": {
    "scrolled": false
   },
   "outputs": [
    {
     "name": "stdout",
     "output_type": "stream",
     "text": [
      "Facebook : 2974676\n",
      "Pinterest : 1061624\n",
      "Skype for iPhone : 373519\n",
      "Messenger : 351466\n",
      "Tumblr : 334293\n",
      "WhatsApp Messenger : 287589\n",
      "Kik : 260965\n",
      "ooVoo – Free Video Call, Text and Voice : 177501\n",
      "TextNow - Unlimited Text + Calls : 164963\n",
      "Viber Messenger – Text & Call : 164249\n",
      "Followers - Social Analytics For Instagram : 112778\n",
      "MeetMe - Chat and Meet New People : 97072\n",
      "We Heart It - Fashion, wallpapers, quotes, tattoos : 90414\n",
      "InsTrack for Instagram - Analytics Plus More : 85535\n",
      "Tango - Free Video Call, Voice and Chat : 75412\n",
      "LinkedIn : 71856\n",
      "Match™ - #1 Dating App. : 60659\n",
      "Skype for iPad : 60163\n",
      "POF - Best Dating App for Conversations : 52642\n",
      "Timehop : 49510\n",
      "Find My Family, Friends & iPhone - Life360 Locator : 43877\n",
      "Whisper - Share, Express, Meet : 39819\n",
      "Hangouts : 36404\n",
      "LINE PLAY - Your Avatar World : 34677\n",
      "WeChat : 34584\n",
      "Badoo - Meet New People, Chat, Socialize. : 34428\n",
      "Followers + for Instagram - Follower Analytics : 28633\n",
      "GroupMe : 28260\n",
      "Marco Polo Video Walkie Talkie : 27662\n",
      "Miitomo : 23965\n",
      "SimSimi : 23530\n",
      "Grindr - Gay and same sex guys chat, meet and date : 23201\n",
      "Wishbone - Compare Anything : 20649\n",
      "imo video calls and chat : 18841\n",
      "After School - Funny Anonymous School News : 18482\n",
      "Quick Reposter - Repost, Regram and Reshare Photos : 17694\n",
      "Weibo HD : 16772\n",
      "Repost for Instagram : 15185\n",
      "Live.me – Live Video Chat & Make Friends Nearby : 14724\n",
      "Nextdoor : 14402\n",
      "Followers Analytics for Instagram - InstaReport : 13914\n",
      "YouNow: Live Stream Video Chat : 12079\n",
      "FollowMeter for Instagram - Followers Tracking : 11976\n",
      "LINE : 11437\n",
      "eHarmony™ Dating App - Meet Singles : 11124\n",
      "Discord - Chat for Gamers : 9152\n",
      "QQ : 9109\n",
      "Telegram Messenger : 7573\n",
      "Weibo : 7265\n",
      "Periscope - Live Video Streaming Around the World : 6062\n",
      "Chat for Whatsapp - iPad Version : 5060\n",
      "QQ HD : 5058\n",
      "Followers Analysis Tool For Instagram App Free : 4253\n",
      "live.ly - live video streaming : 4145\n",
      "Houseparty - Group Video Chat : 3991\n",
      "SOMA Messenger : 3232\n",
      "Monkey : 3060\n",
      "Down To Lunch : 2535\n",
      "Flinch - Video Chat Staring Contest : 2134\n",
      "Highrise - Your Avatar Community : 2011\n",
      "LOVOO - Dating Chat : 1985\n",
      "PlayStation®Messages : 1918\n",
      "BOO! - Video chat camera with filters & stickers : 1805\n",
      "Qzone : 1649\n",
      "Chatous - Chat with new people : 1609\n",
      "Kiwi - Q&A : 1538\n",
      "GhostCodes - a discovery app for Snapchat : 1313\n",
      "Jodel : 1193\n",
      "FireChat : 1037\n",
      "Google Duo - simple video calling : 1033\n",
      "Fiesta by Tango - Chat & Meet New People : 885\n",
      "Google Allo — smart messaging : 862\n",
      "Peach — share vividly : 727\n",
      "Hey! VINA - Where Women Meet New Friends : 719\n",
      "Battlefield™ Companion : 689\n",
      "All Devices for WhatsApp - Messenger for iPad : 682\n",
      "Chat for Pokemon Go - GoChat : 500\n",
      "IAmNaughty – Dating App to Meet New People Online : 463\n",
      "Qzone HD : 458\n",
      "Zenly - Locate your friends in realtime : 427\n",
      "League of Legends Friends : 420\n",
      "豆瓣 : 407\n",
      "Candid - Speak Your Mind Freely : 398\n",
      "知乎 : 397\n",
      "Selfeo : 366\n",
      "Fake-A-Location Free ™ : 354\n",
      "Popcorn Buzz - Free Group Calls : 281\n",
      "Fam — Group video calling for iMessage : 279\n",
      "QQ International : 274\n",
      "Ameba : 269\n",
      "SoundCloud Pulse: for creators : 240\n",
      "Tantan : 235\n",
      "Cougar Dating & Life Style App for Mature Women : 213\n",
      "Rawr Messenger - Dab your chat : 180\n",
      "WhenToPost: Best Time to Post Photos for Instagram : 158\n",
      "Inke—Broadcast an amazing life : 147\n",
      "Mustknow - anonymous video Q&A : 53\n",
      "CTFxCmoji : 39\n",
      "Lobi : 36\n",
      "Chain: Collaborate On MyVideo Story/Group Video : 35\n",
      "botman - Real time video chat : 7\n",
      "BestieBox : 0\n",
      "MATCH ON LINE chat : 0\n",
      "niconico ch : 0\n",
      "LINE BLOG : 0\n",
      "bit-tube - Live Stream Video Chat : 0\n"
     ]
    }
   ],
   "source": [
    "inspect_genre(apple_free, \"Social Networking\", 1, 5, 11)"
   ]
  },
  {
   "cell_type": "code",
   "execution_count": 29,
   "metadata": {
    "scrolled": true
   },
   "outputs": [
    {
     "name": "stdout",
     "output_type": "stream",
     "text": [
      "Waze - GPS Navigation, Maps & Real-time Traffic : 345046\n",
      "Google Maps - Navigation & Transit : 154911\n",
      "Geocaching® : 12811\n",
      "CoPilot GPS – Car Navigation & Offline Maps : 3582\n",
      "ImmobilienScout24: Real Estate Search in Germany : 187\n",
      "Railway Route Search : 5\n"
     ]
    }
   ],
   "source": [
    "inspect_genre(apple_free, \"Navigation\", 1, 5, 11)"
   ]
  },
  {
   "cell_type": "code",
   "execution_count": 30,
   "metadata": {
    "scrolled": true
   },
   "outputs": [
    {
     "name": "stdout",
     "output_type": "stream",
     "text": [
      "Bible : 985920\n",
      "Dictionary.com Dictionary & Thesaurus : 200047\n",
      "Dictionary.com Dictionary & Thesaurus for iPad : 54175\n",
      "Google Translate : 26786\n",
      "Muslim Pro: Ramadan 2017 Prayer Times, Azan, Quran : 18418\n",
      "New Furniture Mods - Pocket Wiki & Game Tools for Minecraft PC Edition : 17588\n",
      "Merriam-Webster Dictionary : 16849\n",
      "Night Sky : 12122\n",
      "City Maps for Minecraft PE - The Best Maps for Minecraft Pocket Edition (MCPE) : 8535\n",
      "LUCKY BLOCK MOD ™ for Minecraft PC Edition - The Best Pocket Wiki & Mods Installer Tools : 4693\n",
      "GUNS MODS for Minecraft PC Edition - Mods Tools : 1497\n",
      "Guides for Pokémon GO - Pokemon GO News and Cheats : 826\n",
      "WWDC : 762\n",
      "Horror Maps for Minecraft PE - Download The Scariest Maps for Minecraft Pocket Edition (MCPE) Free : 718\n",
      "VPN Express : 14\n",
      "Real Bike Traffic Rider Virtual Reality Glasses : 8\n",
      "教えて!goo : 0\n",
      "Jishokun-Japanese English Dictionary & Translator : 0\n"
     ]
    }
   ],
   "source": [
    "inspect_genre(apple_free, \"Reference\", 1, 5, 11)"
   ]
  },
  {
   "cell_type": "code",
   "execution_count": 31,
   "metadata": {},
   "outputs": [
    {
     "name": "stdout",
     "output_type": "stream",
     "text": [
      "Instagram : 2161558\n",
      "Snapchat : 323905\n",
      "YouTube - Watch Videos, Music, and Live Streams : 278166\n",
      "Pic Collage - Picture Editor & Photo Collage Maker : 123433\n",
      "Funimate video editor: add cool effects to videos : 123268\n",
      "musical.ly - your video social network : 105429\n",
      "Photo Collage Maker & Photo Editor - Live Collage : 93781\n",
      "Vine Camera : 90355\n",
      "Google Photos - unlimited photo and video storage : 88742\n",
      "Flipagram : 79905\n",
      "Mixgram - Picture Collage Maker - Pic Photo Editor : 54282\n",
      "Shutterfly: Prints, Photo Books, Cards Made Easy : 51427\n",
      "Pic Jointer – Photo Collage, Camera Effects Editor : 51330\n",
      "Color Pop Effects - Photo Editor & Picture Editing : 45320\n",
      "Photo Grid - photo collage maker & photo editor : 40531\n",
      "iSwap Faces LITE : 39722\n",
      "MOLDIV - Photo Editor, Collage & Beauty Camera : 39501\n",
      "Photo Editor by Aviary : 39501\n",
      "Photo Lab: Picture Editor, effects & fun face app : 34585\n",
      "Rookie Cam - Photo Editor & Filter Camera : 33921\n",
      "FotoRus -Camera & Photo Editor & Pic Collage Maker : 32558\n",
      "PicsArt Photo Studio: Collage Maker & Pic Editor : 29078\n",
      "Quik – GoPro Video Editor to edit clips with music : 28654\n",
      "Splice - Video Editor + Movie Maker by GoPro : 28189\n",
      "FreePrints – Photos Delivered : 26060\n",
      "Triller - Music Video & Film Maker : 25683\n",
      "Ghost Lens+Scary Photo Video Edit&Collage Maker : 18316\n",
      "Camera360 - Selfie Filter Camera, Photo Editor : 16729\n",
      "InstaMag - Free Pic and Photo Collage Maker : 16221\n",
      "Over— Edit Photos, Add Text & Captions to Pictures : 16221\n",
      "Photo Transfer App - Easy backup of photos+videos : 15654\n",
      "InstaSize: Photo Editor, Picture Effects & Collage : 15605\n",
      "Prisma: Photo Editor, Art Filters Pic Effects : 15060\n",
      "Filterra – Photo Editor, Effects for Pictures : 14744\n",
      "YouCam Makeup: Magic Makeup Selfie Cam : 14188\n",
      "MSQRD — Live Filters & Face Swap for Video Selfies : 12982\n",
      "Artisto – Video and Photo Editor with Art Filters : 12963\n",
      "InShot Video Editor Music, No Crop, Cut : 12779\n",
      "Layout from Instagram : 12616\n",
      "Face Swap App- Funny Face Changer Photo Effects : 11977\n",
      "Moments - private albums with friends and family : 11955\n",
      "VSCO : 11174\n",
      "Retrica - Selfie Camera with Filter, Sticker & GIF : 11021\n",
      "VivaVideo - Best Video Editor & Photo Movie Maker : 10618\n",
      "Prime Photos from Amazon : 10511\n",
      "Canva - Graphic Design & Photo Editing : 9114\n",
      "Photo Editor- : 9095\n",
      "Snapseed : 8683\n",
      "You Doodle - draw on photos & pictures, add text : 8520\n",
      "PIP Camera-Selfie Cam&Pic Collage&Photo Editor : 8454\n",
      "BeautyPlus - Selfie Camera for a Beautiful Image : 7503\n",
      "Baby Story - Pregnancy Pics Baby Milestones Photo : 6700\n",
      "Capture - Control Your GoPro Camera - Share Video : 6542\n",
      "Meitu : 6478\n",
      "Visage makeup editor plus photo teeth whitener : 5767\n",
      "Video & TV Cast for Chromecast: Best Browser to cast and stream webvideos and local videos on TV & Displays : 5676\n",
      "Adobe Photoshop Mix - Cut out, combine, create : 5253\n",
      "Collageable - Photo Collage Maker, Pic Grid Free : 5112\n",
      "Bazaart Photo Editor Pro and Picture Collage Maker : 4909\n",
      "InstaBeauty -Camera&Photo Editor&Pic Collage Maker : 4818\n",
      "YouCam Perfect - Photo & Selfie Editor : 4293\n",
      "PHHHOTO - Look Alive : 4280\n",
      "MuseCam - Edit Photos & Manual Camera : 4267\n",
      "VR Tube - Virtual Reality 360 Video Player : 4142\n",
      "Fyuse - 3D Photos : 4126\n",
      "MakeupPlus - Natural, Professional Makeup Looks : 3987\n",
      "LINE Camera - Photo editor, Animated Stamp, Filter : 3978\n",
      "Printicular Print Photos - 1 Hour Pickup : 3909\n",
      "Lumyer - augmented reality camera effects : 3896\n",
      "KODAK Kiosk Connect App : 3711\n",
      "Cool Wallpapers for Pokemon : 3694\n",
      "Pro Editor - Video Maker for FaceBook & Youtube : 3668\n",
      "Lomotif Music Video Editor - Add Music & Effects! : 3507\n",
      "Epson iPrint : 2838\n",
      "YouCam Fun - Live Selfie Video Filters : 2522\n",
      "A Color Story : 2436\n",
      "Boomerang from Instagram : 2373\n",
      "B612 - Trendy Filters, Selfiegenic Camera : 2275\n",
      "Polarr Photo Editor - Photo Editing Tools for All : 2246\n",
      "Retouch Vogue - Facetune Wrinkles & Pimples Makeup : 2235\n",
      "Kanvas - Express Yourself : 2177\n",
      "Easy Save - Repost your Instagram Photos & Videos : 2159\n",
      "Meitu HD : 2150\n",
      "Pixlr - Photo Collages, Effects, Overlays, Filters : 2099\n",
      "Patternator Pattern Maker Backgrounds & Wallpapers : 2092\n",
      "BeautyCam - AR Carnie selfie : 2082\n",
      "GIPHY. The GIF Search Engine for All the GIFs : 2069\n",
      "Adobe Photoshop Lightroom for iPad : 2005\n",
      "SuperPhoto - Photo Effects & Filters : 1952\n",
      "Solo Selfie : 1799\n",
      "Felt: Birthday & Greeting Cards & Thank You Card : 1724\n",
      "Perfect Image - Pic Collage Maker, Add Text to Photo, Cool Picture Editor : 1646\n",
      "InstaBoard  for Instagram - photos & videos repost : 1571\n",
      "Adobe Photoshop Lightroom for iPhone : 1494\n",
      "PhotoScan - scanner by Google Photos : 1421\n",
      "RealTimes: Video Maker : 1274\n",
      "Meipai : 1190\n",
      "POTO - Photo Collage Maker : 1149\n",
      "SNOW - Selfie, Motion sticker, Fun camera : 1115\n",
      "Bestie-Beauty Camera 360 & Portrait Selfie Editor : 1035\n",
      "Facetune 2 : 1009\n",
      "Pitu : 968\n",
      "intoLive - Custom Live Photos wallpaper maker : 938\n",
      "LOL Movie: Change your face + voice! : 849\n",
      "Camcorder - Record VHS Home Videos : 830\n",
      "Anime Power FX : 807\n",
      "Squaready for Video - Convert Rectangle Movie Clip into Square Shape for Instagram : 778\n",
      "Canon PRINT Inkjet/SELPHY : 689\n",
      "Microsoft Pix Camera : 678\n",
      "Kwai - Share your video moments : 668\n",
      "Polaroid Print App - ZIP : 631\n",
      "Photo Quilt - Auto Collage Maker : 599\n",
      "Cymera - Photo & Beauty Editor & Collage : 523\n",
      "FACIE : 514\n",
      "Photo Editing Effects & Collage Maker - Effectshop : 422\n",
      "Pic-it Collage - Photo Collage Maker and Editor : 415\n",
      "Candy Camera : 397\n",
      "Microsoft Selfie : 375\n",
      "Color Pop Free - Selective Color Splash Effects and Black & White Photography Editor : 352\n",
      "SelfieCity : 252\n",
      "InstaSave for Instagram - Download & Repost your own Videos & Photos for Free : 243\n",
      "CATCHY Photos-Easter Bunny, Tooth Fairy and more.. : 228\n",
      "SW/NG - Living Photos. Memories that Swing. : 222\n",
      "SlideStory - Create a slideshow movie and a snap video : 220\n",
      "April - Layouts, Photo Collage, and Poster Maker : 165\n",
      "PopCam　Photo : 160\n",
      "Foodie - Delicious Camera for Food : 144\n",
      "FreeVRPlayer : 134\n",
      "Confetti - Geofilter Design Maker for Snapchat : 120\n",
      "Philm-Video&Photo Editor,REAL-TIME Magic Filter : 103\n",
      "Digital Domain : 102\n",
      "Homido 360 VR player : 100\n",
      "Best 9 for Instagram : 88\n",
      "VR Video World - Virtual Reality : 88\n",
      "FilmStory - For All Your Video Editing Needs : 66\n",
      "GIFYme - Create video loops and gifs with amazing filters for Whatsapp and Instagram : 65\n",
      "Kiosk Photo Transfer by Fujifilm : 58\n",
      "Pikazo – AI art that YOU control : 56\n",
      "lollicam - photo, video, and selfie camera : 51\n",
      "LOOKS - Real Makeup Camera : 25\n",
      "C CHANNEL -Watch tips & tricks videos for girls : 21\n",
      "in-capturing moments in life : 16\n",
      "Everfilter - transform your photos into artworks : 15\n",
      "GoSnaps - Share Screenshots for Pokémon GO : 12\n",
      "NightShooting : 9\n",
      "MixChannel : 6\n",
      "Simple Camera - Fast Minimal Design : 3\n",
      "SwapperFace - Face Swap Free, Live Mask Effects : 2\n",
      "LINE Moments - Capture Your Fun Moments : 1\n",
      "Video speed editor - VBooster : 1\n",
      "Video Smith - A Powerful video editing tool set : 1\n",
      "MeiCam -  Video Production Master : 0\n",
      "Instant X - Take instant-camera-like photo with double exposure and bulb mode : 0\n",
      "EOPAN : 0\n",
      "StageCameraHD : 0\n",
      "Pictalive for Live Photos - Create from videos : 0\n",
      "BlurEffect-Blur Photo & Video, Hide Face : 0\n",
      "camera for filter : 0\n",
      "Emojil - original emoji stamp, decoration camera : 0\n",
      "CelebrityDiagnosis! : 0\n"
     ]
    }
   ],
   "source": [
    "inspect_genre(apple_free, \"Photo & Video\", 1, 5, 11)"
   ]
  },
  {
   "cell_type": "markdown",
   "metadata": {},
   "source": [
    "Even though the games are making up to 58% of the App store, they are not the most popular on the App store. Most popular apps are Social Networking, Navigation and Reference. To our potential developer team I would recommend to start developing a Photo & Video app, that is the second most popular and is third most common. Developing this kind of app can be linked to the enormous popularity of social media apps. On the social media people are sharing photos & videos, so our app can be link in the social-media sharing process. "
   ]
  },
  {
   "cell_type": "markdown",
   "metadata": {},
   "source": [
    "### Google Play"
   ]
  },
  {
   "cell_type": "markdown",
   "metadata": {},
   "source": [
    "The Google Play store has an information about the number of installs. However the number is not precise, rather it is store in buckets."
   ]
  },
  {
   "cell_type": "code",
   "execution_count": 32,
   "metadata": {
    "scrolled": true
   },
   "outputs": [
    {
     "name": "stdout",
     "output_type": "stream",
     "text": [
      "1,000,000+ : 15.728308699086089\n",
      "100,000+ : 11.55365000564143\n",
      "10,000,000+ : 10.549475346947986\n",
      "10,000+ : 10.199706645605326\n",
      "1,000+ : 8.394448832223853\n",
      "100+ : 6.916393997517771\n",
      "5,000,000+ : 6.826131106848697\n",
      "500,000+ : 5.562450637481666\n",
      "50,000+ : 4.772650344127271\n",
      "5,000+ : 4.513144533453684\n",
      "10+ : 3.542818458761142\n",
      "500+ : 3.2494640640866526\n",
      "50,000,000+ : 2.3017037120613786\n",
      "100,000,000+ : 2.1324607920568655\n",
      "50+ : 1.9180864267178157\n",
      "5+ : 0.7898002933543946\n",
      "1+ : 0.5077287600135394\n",
      "500,000,000+ : 0.270788672007221\n",
      "1,000,000,000+ : 0.2256572266726842\n",
      "0+ : 0.045131445334536835\n"
     ]
    }
   ],
   "source": [
    "display_table(google_free, 5)"
   ]
  },
  {
   "cell_type": "markdown",
   "metadata": {},
   "source": [
    "For the purpose of this project we will convert the 5+ installs as 5, 50+ as 50, 10,000+ as 10000 and so on. To do that we need to remove the special characters **+**."
   ]
  },
  {
   "cell_type": "code",
   "execution_count": 33,
   "metadata": {},
   "outputs": [],
   "source": [
    "google_pop_genre = freq_table(google_free,1)"
   ]
  },
  {
   "cell_type": "code",
   "execution_count": 34,
   "metadata": {
    "scrolled": true
   },
   "outputs": [
    {
     "name": "stdout",
     "output_type": "stream",
     "text": [
      "ART_AND_DESIGN : 1986335\n",
      "AUTO_AND_VEHICLES : 647318\n",
      "BEAUTY : 513152\n",
      "BOOKS_AND_REFERENCE : 8767812\n",
      "BUSINESS : 1712290\n",
      "COMICS : 817657\n",
      "COMMUNICATION : 38456119\n",
      "DATING : 854029\n",
      "EDUCATION : 1833495\n",
      "ENTERTAINMENT : 11640706\n",
      "EVENTS : 253542\n",
      "FINANCE : 1387692\n",
      "FOOD_AND_DRINK : 1924898\n",
      "HEALTH_AND_FITNESS : 4188822\n",
      "HOUSE_AND_HOME : 1331541\n",
      "LIBRARIES_AND_DEMO : 638504\n",
      "LIFESTYLE : 1437816\n",
      "GAME : 15588016\n",
      "FAMILY : 3697848\n",
      "MEDICAL : 120551\n",
      "SOCIAL : 23253652\n",
      "SHOPPING : 7036877\n",
      "PHOTOGRAPHY : 17840110\n",
      "SPORTS : 3638640\n",
      "TRAVEL_AND_LOCAL : 13984078\n",
      "TOOLS : 10801391\n",
      "PERSONALIZATION : 5201483\n",
      "PRODUCTIVITY : 16787331\n",
      "PARENTING : 542604\n",
      "WEATHER : 5074486\n",
      "VIDEO_PLAYERS : 24727872\n",
      "NEWS_AND_MAGAZINES : 9549178\n",
      "MAPS_AND_NAVIGATION : 4056942\n"
     ]
    }
   ],
   "source": [
    "for category in google_pop_genre:\n",
    "    total = 0\n",
    "    len_category = 0\n",
    "    for row in google_free:\n",
    "        category_app = row[1]\n",
    "        if category_app == category:\n",
    "            n_installs = row[5]\n",
    "            n_installs = n_installs.replace(\",\",\"\")\n",
    "            n_installs = n_installs.replace(\"+\",\"\")\n",
    "            n_installs = float(n_installs)\n",
    "            total += n_installs\n",
    "            len_category +=1\n",
    "    avg_n_installs = total / len_category\n",
    "    print(category, \":\", round(avg_n_installs))\n",
    "    "
   ]
  },
  {
   "cell_type": "markdown",
   "metadata": {},
   "source": [
    "Apps in communication category have 38,456,119 installs. By far those apps are the most installed on Google Play. Games apps have 15,588,016 installs. The category photography 17,840,110 and Social is 23,253,652.\n",
    "    "
   ]
  }
 ],
 "metadata": {
  "kernelspec": {
   "display_name": "Python 3",
   "language": "python",
   "name": "python3"
  },
  "language_info": {
   "codemirror_mode": {
    "name": "ipython",
    "version": 3
   },
   "file_extension": ".py",
   "mimetype": "text/x-python",
   "name": "python",
   "nbconvert_exporter": "python",
   "pygments_lexer": "ipython3",
   "version": "3.8.2"
  }
 },
 "nbformat": 4,
 "nbformat_minor": 2
}
