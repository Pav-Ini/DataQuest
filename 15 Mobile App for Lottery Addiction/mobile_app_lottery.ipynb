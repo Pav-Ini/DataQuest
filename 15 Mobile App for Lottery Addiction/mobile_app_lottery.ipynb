{
 "cells": [
  {
   "cell_type": "markdown",
   "metadata": {},
   "source": [
    "# Mobile App for Lottery Addiction\n",
    "\n",
    "This project is part of a guided project available on [Dataquest.io](https://dataquest.io). In this project scenario we work for a medical institute that aims to prevent and treat gambling addictions wants to build a dedicated mobile app to help lottery addicts better estimate their chances of winning. The institute has a team of engineers that will build the app, but they need us to create the logical core of the app and calculate probabilities. The version of this app is focusing on [6/49 Lottery](https://en.wikipedia.org/wiki/Lotto_6/49) one of the three natinal lotteries in Canada. The functions in the app will enable users to answer questions like:\n",
    "\n",
    "- What is the probability of winning the big prize with a single ticket?\n",
    "- What is the probability of winning the big prize if we play 40 different tickets (or any other number)?\n",
    "- What is the probability of having at least five (or four, or three, or two) winning numbers on a single ticket?\n",
    "\n",
    "## Content\n",
    "1. Initial Functions\n",
    "2. One-ticket Probability\n",
    "3. Historical Data Check\n",
    "4. Multi-ticket Probability\n",
    "5. Less Winning Numbers\n",
    "\n",
    "---"
   ]
  },
  {
   "cell_type": "markdown",
   "metadata": {},
   "source": [
    "## 1. Initial functions\n",
    "This project will work a lot with probabilities, so as a start we will defined functions we'll be using a lot – function that calculates factorials and combinations.\n",
    "\n",
    "**Factorial Function**"
   ]
  },
  {
   "cell_type": "code",
   "execution_count": 1,
   "metadata": {},
   "outputs": [],
   "source": [
    "def factorial(n):\n",
    "    final_product = 1\n",
    "    for i in range(n, 0, -1):\n",
    "        final_product *= i\n",
    "    return final_product"
   ]
  },
  {
   "cell_type": "markdown",
   "metadata": {},
   "source": [
    "**Combination Function**"
   ]
  },
  {
   "cell_type": "code",
   "execution_count": 2,
   "metadata": {},
   "outputs": [],
   "source": [
    "def combinations(n, k):\n",
    "    return factorial(n) / (factorial(k) * factorial(n-k))"
   ]
  },
  {
   "cell_type": "markdown",
   "metadata": {},
   "source": [
    "## 2. One-ticket Probability\n",
    "In this section we will focuse on calculating the probality of winning the big prize. To win the big prize player needs to guess all six numbers correctly. \n",
    "We discussed with the engineering team of the medical institute, and they told us we need to be aware of the following details when we write the function:\n",
    "\n",
    "- Inside the app, the user inputs six different numbers from 1 to 49.\n",
    "- Under the hood, the six numbers will come as a Python list, which will serve as the single input to our function.\n",
    "- The engineering team wants the function to print the probability value in a friendly way — in a way that people without any probability training are able to understand.\n"
   ]
  },
  {
   "cell_type": "markdown",
   "metadata": {},
   "source": [
    "Write a function named one_ticket_probability(), which takes in a list of six unique numbers and prints the probability of winning in a way that's easy to understand.\n",
    "\n",
    "Start by calculating the total number of possible outcomes — this is total number of combinations for a six-number lottery ticket. There are 49 possible numbers, and six numbers are sampled without replacement. Use the combinations() function you wrote in the previous screen.\n",
    "The user inputs just one combination, which means the number of successful outcomes is 1.\n",
    "Use the number of successful outcomes and the total number of possible outcomes to calculate the probability for one ticket.\n",
    "The function should print the probability in a way that's easy to understand. It's up to you what you choose, but here are a few suggestions:\n",
    "Print the probability as a percentage.\n",
    "Use the str.format() method to make the printed message more personalized with respect to what the user inputs.\n",
    "Test your function using a few inputs.\n",
    "\n",
    "Add some context for your readers to explain what you did in this step and why."
   ]
  },
  {
   "cell_type": "code",
   "execution_count": 3,
   "metadata": {},
   "outputs": [],
   "source": [
    "def one_ticket_probability(list):\n",
    "    n_combiantions = combinations(49,6)\n",
    "    probability_one_ticket = 1/n_combiantions\n",
    "    winning_probabilty = probability_one_ticket * 100\n",
    "\n",
    "    print('''The chances of winning with the {} numbers is {:.7f} %\n",
    "In other words you have 1 in {:,} chances to win.'''.format(list, winning_probabilty, int(n_combiantions)))\n"
   ]
  },
  {
   "cell_type": "markdown",
   "metadata": {},
   "source": [
    "Testing the function"
   ]
  },
  {
   "cell_type": "code",
   "execution_count": 4,
   "metadata": {},
   "outputs": [
    {
     "name": "stdout",
     "output_type": "stream",
     "text": [
      "The chances of winning with the [7, 1, 23, 0, 38, 19] numbers is 0.0000072 %\n",
      "In other words you have 1 in 13,983,816 chances to win.\n"
     ]
    }
   ],
   "source": [
    "test_list_1 = [7,1,23,0,38,19]\n",
    "one_ticket_probability(test_list_1)"
   ]
  },
  {
   "cell_type": "code",
   "execution_count": 5,
   "metadata": {},
   "outputs": [
    {
     "name": "stdout",
     "output_type": "stream",
     "text": [
      "The chances of winning with the [45, 34, 12, 3, 16, 49] numbers is 0.0000072 %\n",
      "In other words you have 1 in 13,983,816 chances to win.\n"
     ]
    }
   ],
   "source": [
    "test_list_2 = [45, 34, 12, 3, 16, 49]\n",
    "one_ticket_probability(test_list_2)"
   ]
  },
  {
   "cell_type": "markdown",
   "metadata": {},
   "source": [
    "## 3. Historical Data Check\n",
    "Users should also be able to compare their ticket against the historical lottery data in Canada and determine whether they would have ever won by now.  We'll focus on exploring the historical data coming from the Canada 6/49 lottery. The data set can be downloaded from [Kaggle](https://www.kaggle.com/datascienceai/lottery-dataset) by user [MC](https://www.kaggle.com/datascienceai).\n",
    "\n",
    "The data set contains historical data for 3,665 drawings (each row shows data for a single drawing), dating from 1982 to 2018. For each drawing, we can find the six numbers drawn in the following six columns:\n",
    "\n",
    "- `NUMBER DRAWN 1`\n",
    "- `NUMBER DRAWN 2`\n",
    "- `NUMBER DRAWN 3`\n",
    "- `NUMBER DRAWN 4`\n",
    "- `NUMBER DRAWN 5`\n",
    "- `NUMBER DRAWN 6`\n",
    "\n"
   ]
  },
  {
   "cell_type": "code",
   "execution_count": 6,
   "metadata": {},
   "outputs": [
    {
     "data": {
      "text/plain": [
       "(3665, 11)"
      ]
     },
     "execution_count": 6,
     "metadata": {},
     "output_type": "execute_result"
    }
   ],
   "source": [
    "import pandas as pd\n",
    "\n",
    "lotto = pd.read_csv(\"649.csv\")\n",
    "lotto.shape"
   ]
  },
  {
   "cell_type": "code",
   "execution_count": 7,
   "metadata": {},
   "outputs": [
    {
     "data": {
      "text/html": [
       "<div>\n",
       "<style scoped>\n",
       "    .dataframe tbody tr th:only-of-type {\n",
       "        vertical-align: middle;\n",
       "    }\n",
       "\n",
       "    .dataframe tbody tr th {\n",
       "        vertical-align: top;\n",
       "    }\n",
       "\n",
       "    .dataframe thead th {\n",
       "        text-align: right;\n",
       "    }\n",
       "</style>\n",
       "<table border=\"1\" class=\"dataframe\">\n",
       "  <thead>\n",
       "    <tr style=\"text-align: right;\">\n",
       "      <th></th>\n",
       "      <th>PRODUCT</th>\n",
       "      <th>DRAW NUMBER</th>\n",
       "      <th>SEQUENCE NUMBER</th>\n",
       "      <th>DRAW DATE</th>\n",
       "      <th>NUMBER DRAWN 1</th>\n",
       "      <th>NUMBER DRAWN 2</th>\n",
       "      <th>NUMBER DRAWN 3</th>\n",
       "      <th>NUMBER DRAWN 4</th>\n",
       "      <th>NUMBER DRAWN 5</th>\n",
       "      <th>NUMBER DRAWN 6</th>\n",
       "      <th>BONUS NUMBER</th>\n",
       "    </tr>\n",
       "  </thead>\n",
       "  <tbody>\n",
       "    <tr>\n",
       "      <td>0</td>\n",
       "      <td>649</td>\n",
       "      <td>1</td>\n",
       "      <td>0</td>\n",
       "      <td>6/12/1982</td>\n",
       "      <td>3</td>\n",
       "      <td>11</td>\n",
       "      <td>12</td>\n",
       "      <td>14</td>\n",
       "      <td>41</td>\n",
       "      <td>43</td>\n",
       "      <td>13</td>\n",
       "    </tr>\n",
       "    <tr>\n",
       "      <td>1</td>\n",
       "      <td>649</td>\n",
       "      <td>2</td>\n",
       "      <td>0</td>\n",
       "      <td>6/19/1982</td>\n",
       "      <td>8</td>\n",
       "      <td>33</td>\n",
       "      <td>36</td>\n",
       "      <td>37</td>\n",
       "      <td>39</td>\n",
       "      <td>41</td>\n",
       "      <td>9</td>\n",
       "    </tr>\n",
       "    <tr>\n",
       "      <td>2</td>\n",
       "      <td>649</td>\n",
       "      <td>3</td>\n",
       "      <td>0</td>\n",
       "      <td>6/26/1982</td>\n",
       "      <td>1</td>\n",
       "      <td>6</td>\n",
       "      <td>23</td>\n",
       "      <td>24</td>\n",
       "      <td>27</td>\n",
       "      <td>39</td>\n",
       "      <td>34</td>\n",
       "    </tr>\n",
       "    <tr>\n",
       "      <td>3</td>\n",
       "      <td>649</td>\n",
       "      <td>4</td>\n",
       "      <td>0</td>\n",
       "      <td>7/3/1982</td>\n",
       "      <td>3</td>\n",
       "      <td>9</td>\n",
       "      <td>10</td>\n",
       "      <td>13</td>\n",
       "      <td>20</td>\n",
       "      <td>43</td>\n",
       "      <td>34</td>\n",
       "    </tr>\n",
       "    <tr>\n",
       "      <td>4</td>\n",
       "      <td>649</td>\n",
       "      <td>5</td>\n",
       "      <td>0</td>\n",
       "      <td>7/10/1982</td>\n",
       "      <td>5</td>\n",
       "      <td>14</td>\n",
       "      <td>21</td>\n",
       "      <td>31</td>\n",
       "      <td>34</td>\n",
       "      <td>47</td>\n",
       "      <td>45</td>\n",
       "    </tr>\n",
       "    <tr>\n",
       "      <td>5</td>\n",
       "      <td>649</td>\n",
       "      <td>6</td>\n",
       "      <td>0</td>\n",
       "      <td>7/17/1982</td>\n",
       "      <td>8</td>\n",
       "      <td>20</td>\n",
       "      <td>21</td>\n",
       "      <td>25</td>\n",
       "      <td>31</td>\n",
       "      <td>41</td>\n",
       "      <td>33</td>\n",
       "    </tr>\n",
       "    <tr>\n",
       "      <td>6</td>\n",
       "      <td>649</td>\n",
       "      <td>7</td>\n",
       "      <td>0</td>\n",
       "      <td>7/24/1982</td>\n",
       "      <td>18</td>\n",
       "      <td>25</td>\n",
       "      <td>28</td>\n",
       "      <td>33</td>\n",
       "      <td>36</td>\n",
       "      <td>42</td>\n",
       "      <td>7</td>\n",
       "    </tr>\n",
       "    <tr>\n",
       "      <td>7</td>\n",
       "      <td>649</td>\n",
       "      <td>8</td>\n",
       "      <td>0</td>\n",
       "      <td>7/31/1982</td>\n",
       "      <td>7</td>\n",
       "      <td>16</td>\n",
       "      <td>17</td>\n",
       "      <td>31</td>\n",
       "      <td>40</td>\n",
       "      <td>48</td>\n",
       "      <td>26</td>\n",
       "    </tr>\n",
       "    <tr>\n",
       "      <td>8</td>\n",
       "      <td>649</td>\n",
       "      <td>9</td>\n",
       "      <td>0</td>\n",
       "      <td>8/7/1982</td>\n",
       "      <td>5</td>\n",
       "      <td>10</td>\n",
       "      <td>23</td>\n",
       "      <td>27</td>\n",
       "      <td>37</td>\n",
       "      <td>38</td>\n",
       "      <td>33</td>\n",
       "    </tr>\n",
       "    <tr>\n",
       "      <td>9</td>\n",
       "      <td>649</td>\n",
       "      <td>10</td>\n",
       "      <td>0</td>\n",
       "      <td>8/14/1982</td>\n",
       "      <td>4</td>\n",
       "      <td>15</td>\n",
       "      <td>30</td>\n",
       "      <td>37</td>\n",
       "      <td>46</td>\n",
       "      <td>48</td>\n",
       "      <td>3</td>\n",
       "    </tr>\n",
       "  </tbody>\n",
       "</table>\n",
       "</div>"
      ],
      "text/plain": [
       "   PRODUCT  DRAW NUMBER  SEQUENCE NUMBER  DRAW DATE  NUMBER DRAWN 1  \\\n",
       "0      649            1                0  6/12/1982               3   \n",
       "1      649            2                0  6/19/1982               8   \n",
       "2      649            3                0  6/26/1982               1   \n",
       "3      649            4                0   7/3/1982               3   \n",
       "4      649            5                0  7/10/1982               5   \n",
       "5      649            6                0  7/17/1982               8   \n",
       "6      649            7                0  7/24/1982              18   \n",
       "7      649            8                0  7/31/1982               7   \n",
       "8      649            9                0   8/7/1982               5   \n",
       "9      649           10                0  8/14/1982               4   \n",
       "\n",
       "   NUMBER DRAWN 2  NUMBER DRAWN 3  NUMBER DRAWN 4  NUMBER DRAWN 5  \\\n",
       "0              11              12              14              41   \n",
       "1              33              36              37              39   \n",
       "2               6              23              24              27   \n",
       "3               9              10              13              20   \n",
       "4              14              21              31              34   \n",
       "5              20              21              25              31   \n",
       "6              25              28              33              36   \n",
       "7              16              17              31              40   \n",
       "8              10              23              27              37   \n",
       "9              15              30              37              46   \n",
       "\n",
       "   NUMBER DRAWN 6  BONUS NUMBER  \n",
       "0              43            13  \n",
       "1              41             9  \n",
       "2              39            34  \n",
       "3              43            34  \n",
       "4              47            45  \n",
       "5              41            33  \n",
       "6              42             7  \n",
       "7              48            26  \n",
       "8              38            33  \n",
       "9              48             3  "
      ]
     },
     "execution_count": 7,
     "metadata": {},
     "output_type": "execute_result"
    }
   ],
   "source": [
    "lotto.head(10)"
   ]
  },
  {
   "cell_type": "markdown",
   "metadata": {},
   "source": [
    "We're going to write a function that will enable users to compare their ticket against the historical lottery data in Canada and determine whether they would have ever won by now."
   ]
  },
  {
   "cell_type": "code",
   "execution_count": 8,
   "metadata": {},
   "outputs": [
    {
     "data": {
      "text/plain": [
       "0    {3, 41, 11, 12, 43, 14}\n",
       "1    {33, 36, 37, 39, 8, 41}\n",
       "2     {1, 6, 39, 23, 24, 27}\n",
       "3     {3, 9, 10, 43, 13, 20}\n",
       "4    {34, 5, 14, 47, 21, 31}\n",
       "dtype: object"
      ]
     },
     "execution_count": 8,
     "metadata": {},
     "output_type": "execute_result"
    }
   ],
   "source": [
    "def extract_numbers(row):\n",
    "    row = row[4:10]\n",
    "    row = set(row)\n",
    "    return row\n",
    "\n",
    "winning_numbers = lotto.apply(extract_numbers, axis=1)\n",
    "winning_numbers.head()"
   ]
  },
  {
   "cell_type": "code",
   "execution_count": 9,
   "metadata": {},
   "outputs": [],
   "source": [
    "def check_historical_occurence(user_list, winning_numbers):\n",
    "    user_set = set(user_list)\n",
    "    check_sets = user_set == winning_numbers\n",
    "    n_past_winns = check_sets.sum()\n",
    "\n",
    "\n",
    "    if n_past_winns >=1:\n",
    "        print('''The following combination {} of numbers has won {} times in the past.'''.format(user_list, n_past_winns))\n",
    "        one_ticket_probability(user_list)\n",
    "\n",
    "    else:\n",
    "        print('''The following combantion {} did not won in the past.'''.format(user_list))\n",
    "        one_ticket_probability(user_list)"
   ]
  },
  {
   "cell_type": "code",
   "execution_count": 10,
   "metadata": {},
   "outputs": [
    {
     "name": "stdout",
     "output_type": "stream",
     "text": [
      "The following combination [3, 41, 11, 12, 43, 14] of numbers has won 1 times in the past.\n",
      "The chances of winning with the [3, 41, 11, 12, 43, 14] numbers is 0.0000072 %\n",
      "In other words you have 1 in 13,983,816 chances to win.\n"
     ]
    }
   ],
   "source": [
    "test_list_3 = [3, 41, 11, 12, 43, 14]\n",
    "check_historical_occurence(test_list_3, winning_numbers)"
   ]
  },
  {
   "cell_type": "code",
   "execution_count": 11,
   "metadata": {},
   "outputs": [
    {
     "name": "stdout",
     "output_type": "stream",
     "text": [
      "The following combantion [45, 34, 12, 3, 16, 49] did not won in the past.\n",
      "The chances of winning with the [45, 34, 12, 3, 16, 49] numbers is 0.0000072 %\n",
      "In other words you have 1 in 13,983,816 chances to win.\n"
     ]
    }
   ],
   "source": [
    "check_historical_occurence(test_list_2, winning_numbers)"
   ]
  },
  {
   "cell_type": "markdown",
   "metadata": {},
   "source": [
    "## 4. Multi-ticket Probability\n",
    "Lottery addicts usually play more than one ticket on a single drawing, thinking that this might increase their chances of winning significantly. Our purpose is to help them better estimate their chances of winning — we're going to write a function that will allow the users to calculate the chances of winning for any number of different tickets.\n",
    "\n",
    "We've talked with the engineering team and they gave us the following information:\n",
    "\n",
    "- The user will input the number of different tickets they want to play (without inputting the specific combinations they intend to play).\n",
    "- Our function will see an integer between 1 and 13,983,816 (the maximum number of different tickets).\n",
    "- The function should print information about the probability of winning the big prize depending on the number of different tickets played."
   ]
  },
  {
   "cell_type": "code",
   "execution_count": 12,
   "metadata": {},
   "outputs": [],
   "source": [
    "def multi_ticket_probability(user_nubmer):\n",
    "    n_combiantions = combinations(49,6)\n",
    "    probability_multi_ticket = int(user_nubmer)/n_combiantions\n",
    "    winning_probability = probability_multi_ticket * 100\n",
    "\n",
    "    print('''The probability of winning with {} tickets is {:.7f} %\n",
    "In other words you have 1 in {} chances to win.'''.format(int(user_nubmer), winning_probability, int(n_combiantions)))\n"
   ]
  },
  {
   "cell_type": "code",
   "execution_count": 13,
   "metadata": {},
   "outputs": [
    {
     "name": "stdout",
     "output_type": "stream",
     "text": [
      "The probability of winning with 1 tickets is 0.0000072 %\n",
      "In other words you have 1 in 13983816 chances to win.\n",
      "----------------------------------------------------------------------\n",
      "The probability of winning with 10 tickets is 0.0000715 %\n",
      "In other words you have 1 in 13983816 chances to win.\n",
      "----------------------------------------------------------------------\n",
      "The probability of winning with 100 tickets is 0.0007151 %\n",
      "In other words you have 1 in 13983816 chances to win.\n",
      "----------------------------------------------------------------------\n",
      "The probability of winning with 10000 tickets is 0.0715112 %\n",
      "In other words you have 1 in 13983816 chances to win.\n",
      "----------------------------------------------------------------------\n",
      "The probability of winning with 1000000 tickets is 7.1511238 %\n",
      "In other words you have 1 in 13983816 chances to win.\n",
      "----------------------------------------------------------------------\n",
      "The probability of winning with 6991908 tickets is 50.0000000 %\n",
      "In other words you have 1 in 13983816 chances to win.\n",
      "----------------------------------------------------------------------\n",
      "The probability of winning with 13983816 tickets is 100.0000000 %\n",
      "In other words you have 1 in 13983816 chances to win.\n",
      "----------------------------------------------------------------------\n"
     ]
    }
   ],
   "source": [
    "test_imputs = [1, 10, 100, 10000, 1000000, 6991908, 13983816]\n",
    "\n",
    "for number in test_imputs:\n",
    "    multi_ticket_probability(number)\n",
    "    print(\"-\" * 70)"
   ]
  },
  {
   "cell_type": "markdown",
   "metadata": {},
   "source": [
    "## 5. Less Winning Numbers\n",
    "wW're going to write one more function to allow the users to calculate probabilities for two, three, four, or five winning numbers. In most 6/49 lotteries there are smaller prizes if a player's ticket match two, three, four, or five of the six numbers drawn. As a consequence, the users might be interested in knowing the probability of having two, three, four, or five winning numbers. These are the engineering details we'll need to be aware of:\n",
    "\n",
    "- Inside the app, the user inputs:\n",
    "    - six different numbers from 1 to 49; and\n",
    "    - an integer between 2 and 5 that represents the number of winning numbers expected"
   ]
  },
  {
   "cell_type": "code",
   "execution_count": 14,
   "metadata": {},
   "outputs": [],
   "source": [
    "def probability_less_6(user_number):\n",
    "   n_combinations_ticket = combinations(6, user_number)\n",
    "   n_combinations_remains = combinations(43, 6 - user_number)\n",
    "   succesfull_outcomes = n_combinations_ticket * n_combinations_remains\n",
    "\n",
    "   winning_numbers = succesfull_outcomes / combinations(49,6)\n",
    "   \n",
    "   probability_percentage = winning_numbers * 100\n",
    "   combinations_simplified = round(combinations(49,6)/succesfull_outcomes)\n",
    "   print('''Your chances of having {} winning numbers with this ticket are {:.6f}%.\n",
    "In other words, you have a 1 in {:,} chances to win.'''.format(user_number, probability_percentage,\n",
    "                                                               int(combinations_simplified)))"
   ]
  },
  {
   "cell_type": "code",
   "execution_count": 15,
   "metadata": {},
   "outputs": [
    {
     "name": "stdout",
     "output_type": "stream",
     "text": [
      "Your chances of having 1 winning numbers with this ticket are 41.301945%.\n",
      "In other words, you have a 1 in 2 chances to win.\n",
      "----------------------------------------------------------------------\n",
      "Your chances of having 2 winning numbers with this ticket are 13.237803%.\n",
      "In other words, you have a 1 in 8 chances to win.\n",
      "----------------------------------------------------------------------\n",
      "Your chances of having 3 winning numbers with this ticket are 1.765040%.\n",
      "In other words, you have a 1 in 57 chances to win.\n",
      "----------------------------------------------------------------------\n",
      "Your chances of having 4 winning numbers with this ticket are 0.096862%.\n",
      "In other words, you have a 1 in 1,032 chances to win.\n",
      "----------------------------------------------------------------------\n",
      "Your chances of having 5 winning numbers with this ticket are 0.001845%.\n",
      "In other words, you have a 1 in 54,201 chances to win.\n",
      "----------------------------------------------------------------------\n"
     ]
    }
   ],
   "source": [
    "test_imputs = [1, 2, 3, 4, 5]\n",
    "\n",
    "for number in test_imputs:\n",
    "    probability_less_6(number)\n",
    "    print(\"-\" * 70)"
   ]
  }
 ],
 "metadata": {
  "interpreter": {
   "hash": "40d3a090f54c6569ab1632332b64b2c03c39dcf918b08424e98f38b5ae0af88f"
  },
  "kernelspec": {
   "display_name": "Python 3.7.4 64-bit ('base': conda)",
   "name": "python3"
  },
  "language_info": {
   "codemirror_mode": {
    "name": "ipython",
    "version": 3
   },
   "file_extension": ".py",
   "mimetype": "text/x-python",
   "name": "python",
   "nbconvert_exporter": "python",
   "pygments_lexer": "ipython3",
   "version": "3.7.4"
  },
  "orig_nbformat": 4
 },
 "nbformat": 4,
 "nbformat_minor": 2
}
