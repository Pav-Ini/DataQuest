{
 "metadata": {
  "language_info": {
   "codemirror_mode": {
    "name": "ipython",
    "version": 3
   },
   "file_extension": ".py",
   "mimetype": "text/x-python",
   "name": "python",
   "nbconvert_exporter": "python",
   "pygments_lexer": "ipython3",
   "version": "3.7.4"
  },
  "orig_nbformat": 2,
  "kernelspec": {
   "name": "python374jvsc74a57bd0dca0ade3e726a953b501b15e8e990130d2b7799f14cfd9f4271676035ebe5511",
   "display_name": "Python 3.7.4 64-bit ('base': conda)"
  }
 },
 "nbformat": 4,
 "nbformat_minor": 2,
 "cells": [
  {
   "source": [
    "# Analyzing the laptops dataset\n",
    "\n",
    "Playground project with the laptops.csv file to practice with pandas. The original file is available [here](https://dsserver-prod-resources-1.s3.amazonaws.com/293/laptops.csv?versionId=MzL1FMfo0SoiLJBjWpFkxHqLhEqD__SO) as part of course by [Dataquest.io](https://dataset.io)"
   ],
   "cell_type": "markdown",
   "metadata": {}
  },
  {
   "cell_type": "code",
   "execution_count": 1,
   "metadata": {},
   "outputs": [],
   "source": [
    "# importing pandas and numpy\n",
    "import pandas as pd\n",
    "import numpy as np"
   ]
  },
  {
   "cell_type": "code",
   "execution_count": 2,
   "metadata": {},
   "outputs": [
    {
     "output_type": "stream",
     "name": "stdout",
     "text": [
      "<class 'pandas.core.frame.DataFrame'>\nRangeIndex: 1303 entries, 0 to 1302\nData columns (total 13 columns):\nManufacturer                1303 non-null object\nModel Name                  1303 non-null object\nCategory                    1303 non-null object\nScreen Size                 1303 non-null object\nScreen                      1303 non-null object\nCPU                         1303 non-null object\nRAM                         1303 non-null object\n Storage                    1303 non-null object\nGPU                         1303 non-null object\nOperating System            1303 non-null object\nOperating System Version    1133 non-null object\nWeight                      1303 non-null object\nPrice (Euros)               1303 non-null object\ndtypes: object(13)\nmemory usage: 132.5+ KB\n"
     ]
    }
   ],
   "source": [
    "# opening the laptops.csv file as laptops\n",
    "# setting the encoding to \"Latin-1\" to read the file\n",
    "laptops = pd.read_csv(\"laptops.csv\", encoding= \"Latin-1\")\n",
    "\n",
    "# gatherin intial information about the dataset\n",
    "laptops.info()"
   ]
  },
  {
   "source": [
    "The laptops.csv file has 1303 entries, with 13 columns. All entries are set to objects (strings). The column names are not united, mixing capital letters, non alfabetical characters and in case of the \"Storage\" even a space before the column name.\n",
    "\n",
    "In order to prepare the dataset for analysis I will:\n",
    "- unite the column names\n",
    "- inspect the values whether some can be set as numeric or any other values then objects\n",
    "- inspect the dataset to find missing values\n",
    "- based on the discoveries about the missing values decide what to do with them"
   ],
   "cell_type": "markdown",
   "metadata": {}
  },
  {
   "source": [
    "## 1. Cleaning the dataset\n",
    "### 1.1 Header row\n",
    "The goal for the header row is to have united names. The header row will be in lower-case, using \"_\" instead of spaces and finally it will have only alfanumeric characters."
   ],
   "cell_type": "markdown",
   "metadata": {}
  },
  {
   "cell_type": "code",
   "execution_count": 3,
   "metadata": {},
   "outputs": [],
   "source": [
    "# defining clean_col function to clean and unite the header row\n",
    "def clean_col(col):\n",
    "    col = col.strip() \n",
    "    col = col.replace(\"(\", \"\") \n",
    "    col = col.replace(\")\", \"\")\n",
    "    col = col.replace(\"Operating System\", \"os\")\n",
    "    col = col.replace(\" \", \"_\")\n",
    "    col = col.lower()\n",
    "    return col"
   ]
  },
  {
   "cell_type": "code",
   "execution_count": 4,
   "metadata": {},
   "outputs": [
    {
     "output_type": "stream",
     "name": "stdout",
     "text": [
      "Index(['manufacturer', 'model_name', 'category', 'screen_size', 'screen',\n       'cpu', 'ram', 'storage', 'gpu', 'os', 'os_version', 'weight',\n       'price_euros'],\n      dtype='object')\n"
     ]
    }
   ],
   "source": [
    "# using the clean_col function to assign new valeus in the header row\n",
    "new_header = []\n",
    "\n",
    "for c in laptops.columns:\n",
    "   clean_header = clean_col(c)\n",
    "   new_header.append(clean_header)\n",
    "\n",
    "laptops.columns = new_header\n",
    "\n",
    "# checking the output\n",
    "print(laptops.columns)"
   ]
  },
  {
   "source": [
    "### 1.2 Converting object values to integers and floats\n",
    "Some of the data set columns can be converted to integers and floats so I can perform better analysis. The columns I'm going to change from the object type are:\n",
    "- screen_size\n",
    "- ram\n",
    "- weight\n",
    "- price_euros"
   ],
   "cell_type": "markdown",
   "metadata": {}
  },
  {
   "cell_type": "code",
   "execution_count": 5,
   "metadata": {},
   "outputs": [
    {
     "output_type": "execute_result",
     "data": {
      "text/plain": [
       "  manufacturer   model_name   category screen_size  \\\n",
       "0        Apple  MacBook Pro  Ultrabook       13.3\"   \n",
       "1        Apple  Macbook Air  Ultrabook       13.3\"   \n",
       "2           HP       250 G6   Notebook       15.6\"   \n",
       "\n",
       "                               screen                         cpu  ram  \\\n",
       "0  IPS Panel Retina Display 2560x1600        Intel Core i5 2.3GHz  8GB   \n",
       "1                            1440x900        Intel Core i5 1.8GHz  8GB   \n",
       "2                   Full HD 1920x1080  Intel Core i5 7200U 2.5GHz  8GB   \n",
       "\n",
       "               storage                           gpu     os os_version  \\\n",
       "0            128GB SSD  Intel Iris Plus Graphics 640  macOS        NaN   \n",
       "1  128GB Flash Storage        Intel HD Graphics 6000  macOS        NaN   \n",
       "2            256GB SSD         Intel HD Graphics 620  No OS        NaN   \n",
       "\n",
       "   weight price_euros  \n",
       "0  1.37kg     1339,69  \n",
       "1  1.34kg      898,94  \n",
       "2  1.86kg      575,00  "
      ],
      "text/html": "<div>\n<style scoped>\n    .dataframe tbody tr th:only-of-type {\n        vertical-align: middle;\n    }\n\n    .dataframe tbody tr th {\n        vertical-align: top;\n    }\n\n    .dataframe thead th {\n        text-align: right;\n    }\n</style>\n<table border=\"1\" class=\"dataframe\">\n  <thead>\n    <tr style=\"text-align: right;\">\n      <th></th>\n      <th>manufacturer</th>\n      <th>model_name</th>\n      <th>category</th>\n      <th>screen_size</th>\n      <th>screen</th>\n      <th>cpu</th>\n      <th>ram</th>\n      <th>storage</th>\n      <th>gpu</th>\n      <th>os</th>\n      <th>os_version</th>\n      <th>weight</th>\n      <th>price_euros</th>\n    </tr>\n  </thead>\n  <tbody>\n    <tr>\n      <td>0</td>\n      <td>Apple</td>\n      <td>MacBook Pro</td>\n      <td>Ultrabook</td>\n      <td>13.3\"</td>\n      <td>IPS Panel Retina Display 2560x1600</td>\n      <td>Intel Core i5 2.3GHz</td>\n      <td>8GB</td>\n      <td>128GB SSD</td>\n      <td>Intel Iris Plus Graphics 640</td>\n      <td>macOS</td>\n      <td>NaN</td>\n      <td>1.37kg</td>\n      <td>1339,69</td>\n    </tr>\n    <tr>\n      <td>1</td>\n      <td>Apple</td>\n      <td>Macbook Air</td>\n      <td>Ultrabook</td>\n      <td>13.3\"</td>\n      <td>1440x900</td>\n      <td>Intel Core i5 1.8GHz</td>\n      <td>8GB</td>\n      <td>128GB Flash Storage</td>\n      <td>Intel HD Graphics 6000</td>\n      <td>macOS</td>\n      <td>NaN</td>\n      <td>1.34kg</td>\n      <td>898,94</td>\n    </tr>\n    <tr>\n      <td>2</td>\n      <td>HP</td>\n      <td>250 G6</td>\n      <td>Notebook</td>\n      <td>15.6\"</td>\n      <td>Full HD 1920x1080</td>\n      <td>Intel Core i5 7200U 2.5GHz</td>\n      <td>8GB</td>\n      <td>256GB SSD</td>\n      <td>Intel HD Graphics 620</td>\n      <td>No OS</td>\n      <td>NaN</td>\n      <td>1.86kg</td>\n      <td>575,00</td>\n    </tr>\n  </tbody>\n</table>\n</div>"
     },
     "metadata": {},
     "execution_count": 5
    }
   ],
   "source": [
    "laptops.head(3)"
   ]
  },
  {
   "source": [
    "#### 1.2.1 Screen size\n",
    "To be able to perform comparision on the screen sizes I will remove the '\"' character and convert the values in the column to float data type. Let's see what unique values are in the screen size row to determine whether the change is possible or no. If no problems are detected I will change it."
   ],
   "cell_type": "markdown",
   "metadata": {}
  },
  {
   "cell_type": "code",
   "execution_count": 6,
   "metadata": {},
   "outputs": [
    {
     "output_type": "execute_result",
     "data": {
      "text/plain": [
       "array(['13.3\"', '15.6\"', '15.4\"', '14.0\"', '12.0\"', '11.6\"', '17.3\"',\n",
       "       '10.1\"', '13.5\"', '12.5\"', '13.0\"', '18.4\"', '13.9\"', '12.3\"',\n",
       "       '17.0\"', '15.0\"', '14.1\"', '11.3\"'], dtype=object)"
      ]
     },
     "metadata": {},
     "execution_count": 6
    }
   ],
   "source": [
    "laptops[\"screen_size\"].unique()"
   ]
  },
  {
   "cell_type": "code",
   "execution_count": 7,
   "metadata": {},
   "outputs": [
    {
     "output_type": "execute_result",
     "data": {
      "text/plain": [
       "count    1303.000000\n",
       "mean       15.017191\n",
       "std         1.426304\n",
       "min        10.100000\n",
       "25%        14.000000\n",
       "50%        15.600000\n",
       "75%        15.600000\n",
       "max        18.400000\n",
       "Name: screen_size_inch, dtype: float64"
      ]
     },
     "metadata": {},
     "execution_count": 7
    }
   ],
   "source": [
    "# removing the \" character\n",
    "laptops[\"screen_size\"] = laptops[\"screen_size\"].str.replace('\"',\"\")\n",
    "\n",
    "# converting the object to float\n",
    "laptops[\"screen_size\"] = laptops[\"screen_size\"].astype(float)\n",
    "\n",
    "# renaming the header from screen_size to screen_size_inch\n",
    "laptops.rename(columns={\"screen_size\":\"screen_size_inch\"}, inplace= True)\n",
    "\n",
    "# printing the descriptive statistic for the column\n",
    "laptops[\"screen_size_inch\"].describe()"
   ]
  },
  {
   "source": [
    "#### 1.2.2 Ram\n",
    "Next column to clean and convert the values is the ram that now consist of the numeric value and the \"GB\" appendix. I will remove the \"GB\", convert the numeric value to integer and state that the ram is in GB by renaming the header to ram_gb."
   ],
   "cell_type": "markdown",
   "metadata": {}
  },
  {
   "cell_type": "code",
   "execution_count": 8,
   "metadata": {},
   "outputs": [
    {
     "output_type": "execute_result",
     "data": {
      "text/plain": [
       "array(['8GB', '16GB', '4GB', '2GB', '12GB', '6GB', '32GB', '24GB', '64GB'],\n",
       "      dtype=object)"
      ]
     },
     "metadata": {},
     "execution_count": 8
    }
   ],
   "source": [
    "laptops[\"ram\"].unique()"
   ]
  },
  {
   "cell_type": "code",
   "execution_count": 9,
   "metadata": {},
   "outputs": [
    {
     "output_type": "execute_result",
     "data": {
      "text/plain": [
       "count    1303.000000\n",
       "mean        8.382195\n",
       "std         5.084665\n",
       "min         2.000000\n",
       "25%         4.000000\n",
       "50%         8.000000\n",
       "75%         8.000000\n",
       "max        64.000000\n",
       "Name: ram_gb, dtype: float64"
      ]
     },
     "metadata": {},
     "execution_count": 9
    }
   ],
   "source": [
    "# removing the \"GB\" from the string\n",
    "laptops[\"ram\"] = laptops[\"ram\"].str.replace(\"GB\",\"\")\n",
    "\n",
    "# converting the object to integer\n",
    "laptops[\"ram\"] = laptops[\"ram\"].astype(int)\n",
    "\n",
    "# renaming the header from ram to ram_gb\n",
    "laptops.rename(columns={\"ram\":\"ram_gb\"}, inplace=True)\n",
    "\n",
    "# printing the descriptive statistic for the column\n",
    "laptops[\"ram_gb\"].describe()"
   ]
  },
  {
   "source": [
    "#### 1.2.3 Weight\n",
    "Next I will remove the \"kg\" from the weight column. As the values have been probably updated manully there is one value that is actually having the \"kgs\" instead of kg. From the unique methond it might be hard to spot, but once we rund the .astype() python show us error that it can't convert all the values in the column. Thus I will also remove the \"s\" character. Then convert it into float datatype and rename the column to weight_kg."
   ],
   "cell_type": "markdown",
   "metadata": {}
  },
  {
   "cell_type": "code",
   "execution_count": 10,
   "metadata": {},
   "outputs": [
    {
     "output_type": "execute_result",
     "data": {
      "text/plain": [
       "array(['1.37kg', '1.34kg', '1.86kg', '1.83kg', '2.1kg', '2.04kg', '1.3kg',\n",
       "       '1.6kg', '2.2kg', '0.92kg', '1.22kg', '0.98kg', '2.5kg', '1.62kg',\n",
       "       '1.91kg', '2.3kg', '1.35kg', '1.88kg', '1.89kg', '1.65kg',\n",
       "       '2.71kg', '1.2kg', '1.44kg', '2.8kg', '2kg', '2.65kg', '2.77kg',\n",
       "       '3.2kg', '0.69kg', '1.49kg', '2.4kg', '2.13kg', '2.43kg', '1.7kg',\n",
       "       '1.4kg', '1.8kg', '1.9kg', '3kg', '1.252kg', '2.7kg', '2.02kg',\n",
       "       '1.63kg', '1.96kg', '1.21kg', '2.45kg', '1.25kg', '1.5kg',\n",
       "       '2.62kg', '1.38kg', '1.58kg', '1.85kg', '1.23kg', '1.26kg',\n",
       "       '2.16kg', '2.36kg', '2.05kg', '1.32kg', '1.75kg', '0.97kg',\n",
       "       '2.9kg', '2.56kg', '1.48kg', '1.74kg', '1.1kg', '1.56kg', '2.03kg',\n",
       "       '1.05kg', '4.4kg', '1.90kg', '1.29kg', '2.0kg', '1.95kg', '2.06kg',\n",
       "       '1.12kg', '1.42kg', '3.49kg', '3.35kg', '2.23kg', '4.42kg',\n",
       "       '2.69kg', '2.37kg', '4.7kg', '3.6kg', '2.08kg', '4.3kg', '1.68kg',\n",
       "       '1.41kg', '4.14kg', '2.18kg', '2.24kg', '2.67kg', '2.14kg',\n",
       "       '1.36kg', '2.25kg', '2.15kg', '2.19kg', '2.54kg', '3.42kg',\n",
       "       '1.28kg', '2.33kg', '1.45kg', '2.79kg', '1.84kg', '2.6kg',\n",
       "       '2.26kg', '3.25kg', '1.59kg', '1.13kg', '1.78kg', '1.10kg',\n",
       "       '1.15kg', '1.27kg', '1.43kg', '2.31kg', '1.16kg', '1.64kg',\n",
       "       '2.17kg', '1.47kg', '3.78kg', '1.79kg', '0.91kg', '1.99kg',\n",
       "       '4.33kg', '1.93kg', '1.87kg', '2.63kg', '3.4kg', '3.14kg',\n",
       "       '1.94kg', '1.24kg', '4.6kg', '4.5kg', '2.73kg', '1.39kg', '2.29kg',\n",
       "       '2.59kg', '2.94kg', '1.14kg', '3.8kg', '3.31kg', '1.09kg',\n",
       "       '3.21kg', '1.19kg', '1.98kg', '1.17kg', '4.36kg', '1.71kg',\n",
       "       '2.32kg', '4.2kg', '1.55kg', '0.81kg', '1.18kg', '2.72kg',\n",
       "       '1.31kg', '0.920kg', '3.74kg', '1.76kg', '1.54kg', '2.83kg',\n",
       "       '2.07kg', '2.38kg', '3.58kg', '1.08kg', '2.20kg', '2.75kg',\n",
       "       '1.70kg', '2.99kg', '1.11kg', '2.09kg', '4kgs', '3.0kg', '0.99kg',\n",
       "       '3.52kg', '2.591kg', '2.21kg', '3.3kg', '2.191kg', '2.34kg',\n",
       "       '4.0kg'], dtype=object)"
      ]
     },
     "metadata": {},
     "execution_count": 10
    }
   ],
   "source": [
    "laptops[\"weight\"].unique()"
   ]
  },
  {
   "cell_type": "code",
   "execution_count": 11,
   "metadata": {},
   "outputs": [
    {
     "output_type": "execute_result",
     "data": {
      "text/plain": [
       "count    1303.000000\n",
       "mean        2.038734\n",
       "std         0.665475\n",
       "min         0.690000\n",
       "25%         1.500000\n",
       "50%         2.040000\n",
       "75%         2.300000\n",
       "max         4.700000\n",
       "Name: weight_kg, dtype: float64"
      ]
     },
     "metadata": {},
     "execution_count": 11
    }
   ],
   "source": [
    "# removing the \"kg\" from the string\n",
    "laptops[\"weight\"] = laptops[\"weight\"].str.replace(\"kg\",\"\")\n",
    "\n",
    "# removing the \"s\" from the string\n",
    "laptops[\"weight\"] = laptops[\"weight\"].str.replace(\"s\",\"\")\n",
    "\n",
    "# converting the object to float\n",
    "laptops[\"weight\"] = laptops[\"weight\"].astype(float)\n",
    "\n",
    "# renaming the header from ram to ram_gb\n",
    "laptops.rename(columns={\"weight\":\"weight_kg\"}, inplace=True)\n",
    "\n",
    "# printing the descriptive statistic for the column\n",
    "laptops[\"weight_kg\"].describe()"
   ]
  },
  {
   "source": [
    "#### 1.2.4 Price in Euros\n",
    "The price in euros does not have any special character to be removed, rather replacing the \",\" character with the \".\", so it can be converted in float dtype."
   ],
   "cell_type": "markdown",
   "metadata": {}
  },
  {
   "cell_type": "code",
   "execution_count": 12,
   "metadata": {},
   "outputs": [
    {
     "output_type": "execute_result",
     "data": {
      "text/plain": [
       "count    1303.000000\n",
       "mean     1123.686992\n",
       "std       699.009043\n",
       "min       174.000000\n",
       "25%       599.000000\n",
       "50%       977.000000\n",
       "75%      1487.880000\n",
       "max      6099.000000\n",
       "Name: price_euros, dtype: float64"
      ]
     },
     "metadata": {},
     "execution_count": 12
    }
   ],
   "source": [
    "# replacing the \",\" with \".\" from the string\n",
    "laptops[\"price_euros\"] = laptops[\"price_euros\"].str.replace(\",\",\".\")\n",
    "\n",
    "# converting the object to float\n",
    "laptops[\"price_euros\"] = laptops[\"price_euros\"].astype(float)\n",
    "\n",
    "# printing the descriptive statistic for the column\n",
    "laptops[\"price_euros\"].describe()"
   ]
  },
  {
   "source": [
    "### 1.3 Spliting strings\n",
    "Some of the values in colums are containg two leading information. The information in the gpu column seems to be a manufacturer (Intel, AMD) followed by a model name/number. Let's extract the manufacturer by itself so we can find the most common ones. The same can be applyed on the cpu column and screen, extrating the dimensions to get screen resolution."
   ],
   "cell_type": "markdown",
   "metadata": {}
  },
  {
   "source": [
    "#### 1.3.1 Extracting the GPU manufacturer"
   ],
   "cell_type": "markdown",
   "metadata": {}
  },
  {
   "cell_type": "code",
   "execution_count": 13,
   "metadata": {},
   "outputs": [
    {
     "output_type": "execute_result",
     "data": {
      "text/plain": [
       "Intel     722\n",
       "Nvidia    400\n",
       "AMD       180\n",
       "ARM         1\n",
       "Name: gpu_manufacturer, dtype: int64"
      ]
     },
     "metadata": {},
     "execution_count": 13
    }
   ],
   "source": [
    "# creating new column gpu_manufacturer\n",
    "laptops[\"gpu_manufacturer\"] = (laptops[\"gpu\"]\n",
    "                                       .str.split()\n",
    "                                       .str[0])\n",
    "\n",
    "# displaying the value count to se the gpu manufacturer proportion\n",
    "laptops[\"gpu_manufacturer\"].value_counts()"
   ]
  },
  {
   "source": [
    "#### 1.3.2 Extracting the CPU manufacturer"
   ],
   "cell_type": "markdown",
   "metadata": {}
  },
  {
   "cell_type": "code",
   "execution_count": 14,
   "metadata": {},
   "outputs": [
    {
     "output_type": "execute_result",
     "data": {
      "text/plain": [
       "Intel      1240\n",
       "AMD          62\n",
       "Samsung       1\n",
       "Name: cpu_manufacturer, dtype: int64"
      ]
     },
     "metadata": {},
     "execution_count": 14
    }
   ],
   "source": [
    "# creating new column cpu_manufacturer\n",
    "laptops[\"cpu_manufacturer\"] = (laptops[\"cpu\"]\n",
    "                                       .str.split()\n",
    "                                       .str[0])\n",
    "\n",
    "# displaying the value count to se the gpu manufacturer proportion\n",
    "laptops[\"cpu_manufacturer\"].value_counts()"
   ]
  },
  {
   "source": [
    "#### 1.3.3 Extracting the screen resolution"
   ],
   "cell_type": "markdown",
   "metadata": {}
  },
  {
   "cell_type": "code",
   "execution_count": 15,
   "metadata": {},
   "outputs": [
    {
     "output_type": "execute_result",
     "data": {
      "text/plain": [
       "1920x1080    841\n",
       "1366x768     308\n",
       "3840x2160     43\n",
       "3200x1800     27\n",
       "1600x900      23\n",
       "2560x1440     23\n",
       "2560x1600      6\n",
       "2256x1504      6\n",
       "2304x1440      6\n",
       "1920x1200      5\n",
       "2400x1600      4\n",
       "2880x1800      4\n",
       "1440x900       4\n",
       "2160x1440      2\n",
       "2736x1824      1\n",
       "Name: screen_resolution, dtype: int64"
      ]
     },
     "metadata": {},
     "execution_count": 15
    }
   ],
   "source": [
    "# creating new column cpu_manufacturer\n",
    "laptops[\"screen_resolution\"] = (laptops[\"screen\"]\n",
    "                                       .str.split()\n",
    "                                       .str[-1])\n",
    "\n",
    "# displaying the value count to se the gpu manufacturer proportion\n",
    "laptops[\"screen_resolution\"].value_counts()"
   ]
  },
  {
   "source": [
    "#### 1.3.4 Processor speed\n",
    "The processor speed can be extracted from the cpu column."
   ],
   "cell_type": "markdown",
   "metadata": {}
  },
  {
   "cell_type": "code",
   "execution_count": 16,
   "metadata": {},
   "outputs": [
    {
     "output_type": "execute_result",
     "data": {
      "text/plain": [
       "count    1303.000000\n",
       "mean        2.298772\n",
       "std         0.506340\n",
       "min         0.900000\n",
       "25%         2.000000\n",
       "50%         2.500000\n",
       "75%         2.700000\n",
       "max         3.600000\n",
       "Name: cpu_speed_ghz, dtype: float64"
      ]
     },
     "metadata": {},
     "execution_count": 16
    }
   ],
   "source": [
    "# creating new column cpu_speed_ghz\n",
    "laptops[\"cpu_speed_ghz\"] = (laptops[\"cpu\"]\n",
    "                        .str.split()\n",
    "                        .str[-1]\n",
    "                        )\n",
    "# removing the \"GHz\" string\n",
    "laptops[\"cpu_speed_ghz\"] = laptops[\"cpu_speed_ghz\"].str.replace(\"GHz\",\"\")\n",
    "\n",
    "# convertin the speed to float\n",
    "laptops[\"cpu_speed_ghz\"] = laptops[\"cpu_speed_ghz\"].astype(float)\n",
    "\n",
    "# printing descriptive statistic for the processor speed\n",
    "laptops[\"cpu_speed_ghz\"].describe()"
   ]
  },
  {
   "source": [
    "#### 1.3.5 Storage\n",
    "The storage can be splitted and the transformed to integer values."
   ],
   "cell_type": "markdown",
   "metadata": {}
  },
  {
   "cell_type": "code",
   "execution_count": 17,
   "metadata": {},
   "outputs": [
    {
     "output_type": "execute_result",
     "data": {
      "text/plain": [
       "count    1303.000000\n",
       "mean      441.928626\n",
       "std       356.903966\n",
       "min         1.000000\n",
       "25%       256.000000\n",
       "50%       256.000000\n",
       "75%       512.000000\n",
       "max      2000.000000\n",
       "Name: storage_gb, dtype: float64"
      ]
     },
     "metadata": {},
     "execution_count": 17
    }
   ],
   "source": [
    "# crating new column storage GB\n",
    "laptops[\"storage_gb\"] = (laptops[\"storage\"]\n",
    "                        .str.split()\n",
    "                        .str[0]\n",
    "                        )\n",
    "# converting the TB to GB (1TB is 1000 GB)\n",
    "laptops[\"storage_gb\"] = laptops[\"storage_gb\"].str.replace(\"TB\", \"000\")\n",
    "\n",
    "# removing the GB\n",
    "laptops[\"storage_gb\"] = laptops[\"storage_gb\"].str.replace(\"GB\", \"\")\n",
    "\n",
    "#converting the storage to integer\n",
    "laptops[\"storage_gb\"] = laptops[\"storage_gb\"].astype(int)\n",
    "\n",
    "# printing descriptive statistic for the storage size\n",
    "laptops[\"storage_gb\"].describe()"
   ]
  },
  {
   "source": [
    "### 1.4 Identifying manual entry errors\n",
    "As the data might not be consistent in values, I will check wheter there are some discrepancies and possibly correcting the data."
   ],
   "cell_type": "markdown",
   "metadata": {}
  },
  {
   "cell_type": "code",
   "execution_count": 18,
   "metadata": {},
   "outputs": [
    {
     "output_type": "execute_result",
     "data": {
      "text/plain": [
       "Windows      1125\n",
       "No OS          66\n",
       "Linux          62\n",
       "Chrome OS      27\n",
       "macOS          13\n",
       "Mac OS          8\n",
       "Android         2\n",
       "Name: os, dtype: int64"
      ]
     },
     "metadata": {},
     "execution_count": 18
    }
   ],
   "source": [
    "laptops[\"os\"].value_counts()"
   ]
  },
  {
   "cell_type": "code",
   "execution_count": 19,
   "metadata": {},
   "outputs": [
    {
     "output_type": "execute_result",
     "data": {
      "text/plain": [
       "Notebook              727\n",
       "Gaming                205\n",
       "Ultrabook             196\n",
       "2 in 1 Convertible    121\n",
       "Workstation            29\n",
       "Netbook                25\n",
       "Name: category, dtype: int64"
      ]
     },
     "metadata": {},
     "execution_count": 19
    }
   ],
   "source": [
    "laptops[\"category\"].value_counts()"
   ]
  },
  {
   "source": [
    "#### 1.4.1 Correcting Operating System values\n",
    "From the code it is visible that the operating system (\"os\") column have some data that can be merged. There is duplicity with the macOS x Mac OS, caused probably by the manual entry. I will create a mapping dictionary with OS names to get consistent data."
   ],
   "cell_type": "markdown",
   "metadata": {}
  },
  {
   "cell_type": "code",
   "execution_count": 20,
   "metadata": {},
   "outputs": [
    {
     "output_type": "execute_result",
     "data": {
      "text/plain": [
       "Windows      1125\n",
       "No OS          66\n",
       "Linux          62\n",
       "Chrome OS      27\n",
       "macOS          21\n",
       "Android         2\n",
       "Name: os, dtype: int64"
      ]
     },
     "metadata": {},
     "execution_count": 20
    }
   ],
   "source": [
    "mapping_dictionary = {\n",
    "    \"Windows\" : \"Windows\",\n",
    "    \"No OS\" : \"No OS\",\n",
    "    \"Linux\" : \"Linux\",\n",
    "    \"Chrome OS\" : \"Chrome OS\",\n",
    "    \"macOS\" : \"macOS\",\n",
    "    \"Mac OS\" : \"macOS\",\n",
    "    \"Android\" : \"Android\"\n",
    "}\n",
    "\n",
    "# mapping the values and assigning them back to the laptops dataset\n",
    "laptops[\"os\"] = laptops[\"os\"].map(mapping_dictionary)\n",
    "\n",
    "# correct value counts\n",
    "laptops[\"os\"].value_counts()\n"
   ]
  },
  {
   "source": [
    "### 1.5 Identifying empty cells\n",
    "Some columns in the dataset are having empty values. I will do an analysis to determine what values are missing in what columns. Based on the performed analysis I will decide what the next steps will be."
   ],
   "cell_type": "markdown",
   "metadata": {}
  },
  {
   "cell_type": "code",
   "execution_count": 21,
   "metadata": {},
   "outputs": [
    {
     "output_type": "execute_result",
     "data": {
      "text/plain": [
       "manufacturer           0\n",
       "model_name             0\n",
       "category               0\n",
       "screen_size_inch       0\n",
       "screen                 0\n",
       "cpu                    0\n",
       "ram_gb                 0\n",
       "storage                0\n",
       "gpu                    0\n",
       "os                     0\n",
       "os_version           170\n",
       "weight_kg              0\n",
       "price_euros            0\n",
       "gpu_manufacturer       0\n",
       "cpu_manufacturer       0\n",
       "screen_resolution      0\n",
       "cpu_speed_ghz          0\n",
       "storage_gb             0\n",
       "dtype: int64"
      ]
     },
     "metadata": {},
     "execution_count": 21
    }
   ],
   "source": [
    "# identifying the null values\n",
    "laptops.isnull().sum()\n"
   ]
  },
  {
   "cell_type": "code",
   "execution_count": 22,
   "metadata": {},
   "outputs": [
    {
     "output_type": "execute_result",
     "data": {
      "text/plain": [
       "10      1072\n",
       "NaN      170\n",
       "7         45\n",
       "10 S       8\n",
       "X          8\n",
       "Name: os_version, dtype: int64"
      ]
     },
     "metadata": {},
     "execution_count": 22
    }
   ],
   "source": [
    "laptops[\"os_version\"].value_counts(dropna=False)"
   ]
  },
  {
   "source": [
    "There is only one column with empty cells. The null values are present in the os_version column. All together there is 170 missing values on the operating system version in the laptop. After examining the OS version closely we can see that the 17O missing values is the second most common value. Since the OS version is closely linked to the os column some os versions can be missing, but it can be guessed what values are missing."
   ],
   "cell_type": "markdown",
   "metadata": {}
  },
  {
   "cell_type": "code",
   "execution_count": 23,
   "metadata": {},
   "outputs": [
    {
     "output_type": "execute_result",
     "data": {
      "text/plain": [
       "No OS        66\n",
       "Linux        62\n",
       "Chrome OS    27\n",
       "macOS        13\n",
       "Android       2\n",
       "Name: os, dtype: int64"
      ]
     },
     "metadata": {},
     "execution_count": 23
    }
   ],
   "source": [
    "os_with_null = laptops.loc[laptops[\"os_version\"].isnull(), \"os\"]\n",
    "os_with_null.value_counts()"
   ]
  },
  {
   "source": [
    "Out of the 170 missing values 66 have no OS, 62 have Linus, 27 have Chrome OS, 13 have macOS and lastly 2 have Android. We can determine that the laptops with macOS have X as their os version. Since this is older dataset. See [source](https://en.wikipedia.org/wiki/MacOS). It is not possible to guees the Linux, because there is plenty of Linux distributions and the dataset does not specify this. I will add the os version to all mac laptops. The laptops with no OS will be marked as \"Version Unknown\" to get rid of the null values."
   ],
   "cell_type": "markdown",
   "metadata": {}
  },
  {
   "cell_type": "code",
   "execution_count": 24,
   "metadata": {},
   "outputs": [],
   "source": [
    "# adding the \"X\" for the macOS where the value was missing\n",
    "laptops.loc[laptops[\"os\"] == \"macOS\", \"os_version\"] = \"X\"\n",
    "\n",
    "# adding the \"Version Unknown\" to empty cells in the os_version column\n",
    "laptops.loc[laptops[\"os\"] == \"No OS\", \"os_version\"] = \"Version Unknown\""
   ]
  },
  {
   "cell_type": "code",
   "execution_count": 25,
   "metadata": {},
   "outputs": [
    {
     "output_type": "execute_result",
     "data": {
      "text/plain": [
       "Linux        62\n",
       "Chrome OS    27\n",
       "Android       2\n",
       "Name: os, dtype: int64"
      ]
     },
     "metadata": {},
     "execution_count": 25
    }
   ],
   "source": [
    "laptops.loc[laptops[\"os_version\"].isnull(), \"os\"].value_counts()"
   ]
  },
  {
   "source": [
    "At the end the laptops dataset is lef with only 91 null values in the os_version column. It was reduced by 79. The data are now **clean and prepared for analysis.**"
   ],
   "cell_type": "markdown",
   "metadata": {}
  },
  {
   "source": [
    "## 2. Analyzing the dataset\n",
    "As the dataset is cleaned now I will answer some question about the laptops. The questions originally proposed by Dataquest.io are:\n",
    "- Are laptops made by Apple more expensive than those made by other manufacturers?\n",
    "- What is the best value laptop with a screen size of 15\" or more?\n",
    "- Which laptop has the most storage space?"
   ],
   "cell_type": "markdown",
   "metadata": {}
  },
  {
   "source": [
    "### 2.1 Are laptops by Apple expensive?\n",
    "#### 2.1.1 Average price of Apple and Other manufactures\n"
   ],
   "cell_type": "markdown",
   "metadata": {}
  },
  {
   "source": [
    "# creating apple laptops dataframe and daframe containing prices of all other laptops manufacturers\n",
    "apple_laptops = laptops.loc[laptops[\"manufacturer\"] == \"Apple\", [\"price_euros\"]]\n",
    "other_laptops = laptops.loc[laptops[\"manufacturer\"] != \"Apple\", [\"manufacturer\",\"price_euros\"]]\n",
    "\n",
    "# printing descriptive statistics for both dataframes\n",
    "print(\"Apple Laptops\")\n",
    "print(apple_laptops.describe())\n",
    "print(\"\\n\")\n",
    "print(\"Other Laptops\")\n",
    "print(other_laptops.describe())\n",
    "print(\"\\n\")\n",
    "print(\"Apple median value\", apple_laptops.median())\n",
    "print(\"Other laptops median value\", other_laptops.median())"
   ],
   "cell_type": "code",
   "metadata": {},
   "execution_count": 26,
   "outputs": [
    {
     "output_type": "stream",
     "name": "stdout",
     "text": [
      "Apple Laptops\n       price_euros\ncount    21.000000\nmean   1564.198571\nstd     561.623595\nmin     898.940000\n25%    1163.000000\n50%    1339.690000\n75%    1958.900000\nmax    2858.000000\n\n\nOther Laptops\n       price_euros\ncount  1282.000000\nmean   1116.471123\nstd     698.903305\nmin     174.000000\n25%     598.000000\n50%     959.500000\n75%    1478.500000\nmax    6099.000000\n\n\nApple median value price_euros    1339.69\ndtype: float64\nOther laptops median value price_euros    959.5\ndtype: float64\n"
     ]
    }
   ]
  },
  {
   "source": [
    "If we are looking only on the price and do not take any other parameters into consideration, then we can tell that the **Apple laptops are expensive.** The price average for Apple laptops is 1564€ and other manufactures have the average price on 1116€, difference being 448€. The median price (the middle value) is 1339€ for Macs and 956€ for othr laptops. The difference between median values is 383€. \n",
    "\n",
    "When looking at the maximum value in the dataset Apple's most pricy laptop is costing 2858€. Other manufactures have a laptop costing 6099€. I will do a further analysis to find out who:\n",
    "- what manufacturer is selling such a expensive laptop\n",
    "- how does Apple laptops compare to each individual laptop manufacturer"
   ],
   "cell_type": "markdown",
   "metadata": {}
  },
  {
   "source": [
    "#### 2.1.2 Median price of Apple laptops comapared with other manufactures"
   ],
   "cell_type": "markdown",
   "metadata": {}
  },
  {
   "cell_type": "code",
   "execution_count": 27,
   "metadata": {},
   "outputs": [
    {
     "output_type": "stream",
     "name": "stdout",
     "text": [
      "Most expensive laptop manufacturer: \n manufacturer    Xiaomi\nprice_euros       6099\ndtype: object\n\n\nCounts of laptops manufacturers \n Dell         297\nLenovo       297\nHP           274\nAsus         158\nAcer         103\nMSI           54\nToshiba       48\nSamsung        9\nRazer          7\nMediacom       7\nMicrosoft      6\nVero           4\nXiaomi         4\nFujitsu        3\nLG             3\nGoogle         3\nChuwi          3\nHuawei         2\nName: manufacturer, dtype: int64\n\n\nMedian prices grouped by manufacturer\n manufacturer\nRazer        2899.00\nLG           2099.00\nSamsung      1649.00\nMSI          1599.00\nMicrosoft    1569.50\nGoogle       1559.00\nHuawei       1424.00\nToshiba      1211.50\nXiaomi       1099.45\nAsus         1012.50\nDell          985.00\nHP            966.50\nLenovo        899.00\nFujitsu       739.00\nAcer          559.00\nMediacom      265.00\nChuwi         248.90\nVero          206.85\nName: price_euros, dtype: float64\n"
     ]
    }
   ],
   "source": [
    "# printing the maximum price in the other laptops\n",
    "print(\"Most expensive laptop manufacturer:\", \"\\n\", other_laptops.max())\n",
    "print(\"\\n\",)\n",
    "# number of laptops manufacturers\n",
    "print(\"Counts of laptops manufacturers\", \"\\n\",other_laptops[\"manufacturer\"].value_counts())\n",
    "print(\"\\n\",)\n",
    "\n",
    "# median laptop prices by manufacturer\n",
    "print(\"Median prices grouped by manufacturer\" \"\\n\", other_laptops.groupby(\"manufacturer\")[\"price_euros\"].median().sort_values(ascending=False))\n"
   ]
  },
  {
   "source": [
    "#### 2.1.3 Conclusion: Apple is not *that* expensive\n",
    "The most expensive laptop is by Xiaomi.\n",
    "\n",
    "There is 18 laptop manufacturers in the dataset and out of those 7 manufacturers have greater median price than Apple. When looking at the manufactures who prodce the most laptops (Lenovo, Dell, HP, Asus, Acer) their median price is bellow 1012€. Those manufacturers can reduce the price of laptops because they are focusing on a broad porfolio. The most expensive brands like Razer, LG or Samsung have lower number of laptops. \n",
    "\n",
    "Apple is producing 21 types of laptops, so it is better to compare this manufacturer with brands such us Toshiba or Samsung. Toshiba is having slightly cheeper with the median price 1211.5€ and Samsung is more expensive than Apple product withe the median price 1649€. Based on the data we can conclude that more laptop types the manufacturer is producing the cheaper the laptops will be.\n",
    "\n",
    "After deeper analysis we can say that **Apple laptops are not out of the price range and are not the most expensive laptops on the market.**"
   ],
   "cell_type": "markdown",
   "metadata": {}
  },
  {
   "source": [
    "### 2.2 Cheapest laptop with 15\" screen"
   ],
   "cell_type": "markdown",
   "metadata": {}
  },
  {
   "cell_type": "code",
   "execution_count": 28,
   "metadata": {},
   "outputs": [
    {
     "output_type": "execute_result",
     "data": {
      "text/plain": [
       "     manufacturer                            model_name         os  \\\n",
       "290          Acer                  Chromebook C910-C2ST  Chrome OS   \n",
       "1102         Acer                         Chromebook 15  Chrome OS   \n",
       "555          Asus  A541NA-GO342 (N3350/4GB/500GB/Linux)      Linux   \n",
       "30          Chuwi                         LapBook 15.6\"    Windows   \n",
       "483         Chuwi                          Lapbook 15,6    Windows   \n",
       "\n",
       "      screen_size_inch  price_euros  \n",
       "290               15.6       199.00  \n",
       "1102              15.6       209.00  \n",
       "555               15.6       224.00  \n",
       "30                15.6       244.99  \n",
       "483               15.6       248.90  "
      ],
      "text/html": "<div>\n<style scoped>\n    .dataframe tbody tr th:only-of-type {\n        vertical-align: middle;\n    }\n\n    .dataframe tbody tr th {\n        vertical-align: top;\n    }\n\n    .dataframe thead th {\n        text-align: right;\n    }\n</style>\n<table border=\"1\" class=\"dataframe\">\n  <thead>\n    <tr style=\"text-align: right;\">\n      <th></th>\n      <th>manufacturer</th>\n      <th>model_name</th>\n      <th>os</th>\n      <th>screen_size_inch</th>\n      <th>price_euros</th>\n    </tr>\n  </thead>\n  <tbody>\n    <tr>\n      <td>290</td>\n      <td>Acer</td>\n      <td>Chromebook C910-C2ST</td>\n      <td>Chrome OS</td>\n      <td>15.6</td>\n      <td>199.00</td>\n    </tr>\n    <tr>\n      <td>1102</td>\n      <td>Acer</td>\n      <td>Chromebook 15</td>\n      <td>Chrome OS</td>\n      <td>15.6</td>\n      <td>209.00</td>\n    </tr>\n    <tr>\n      <td>555</td>\n      <td>Asus</td>\n      <td>A541NA-GO342 (N3350/4GB/500GB/Linux)</td>\n      <td>Linux</td>\n      <td>15.6</td>\n      <td>224.00</td>\n    </tr>\n    <tr>\n      <td>30</td>\n      <td>Chuwi</td>\n      <td>LapBook 15.6\"</td>\n      <td>Windows</td>\n      <td>15.6</td>\n      <td>244.99</td>\n    </tr>\n    <tr>\n      <td>483</td>\n      <td>Chuwi</td>\n      <td>Lapbook 15,6</td>\n      <td>Windows</td>\n      <td>15.6</td>\n      <td>248.90</td>\n    </tr>\n  </tbody>\n</table>\n</div>"
     },
     "metadata": {},
     "execution_count": 28
    }
   ],
   "source": [
    "# Dataframe containing only laptops 15\" and higher\n",
    "laptops_15 = laptops.loc[laptops[\"screen_size_inch\"] >= 15.0]\n",
    "laptops_15.loc[:,[\"manufacturer\",\"model_name\",\"os\",\"screen_size_inch\",\"price_euros\"]].sort_values(\"price_euros\").head()\n",
    "\n"
   ]
  },
  {
   "source": [
    "Cheapest laptop with minimum of 15\" screen is **Chromebook C910-C2ST** by Acer with price 199€. The OS on this laptop is Chrome OS. Three cheapest laptops have an OS that is not dominating the market. If we are looking for a laptop with Windows the cheapest is **LapBook by Chuwi**, costing 244.99€."
   ],
   "cell_type": "markdown",
   "metadata": {}
  },
  {
   "source": [
    "### 2.3 Laptop with the most storage space"
   ],
   "cell_type": "markdown",
   "metadata": {}
  },
  {
   "cell_type": "code",
   "execution_count": 29,
   "metadata": {},
   "outputs": [
    {
     "output_type": "execute_result",
     "data": {
      "text/plain": [
       "     manufacturer                                 model_name       os  \\\n",
       "1063         Dell                              Inspiron 5567  Windows   \n",
       "341        Lenovo                          IdeaPad 320-15ABR  Windows   \n",
       "279        Lenovo                         IdeaPad 320-17IKBR    No OS   \n",
       "775          Asus  Q524UQ-BHI7T15 (i7-7500U/12GB/2TB/GeForce  Windows   \n",
       "467          Dell                              Inspiron 5570  Windows   \n",
       "171            HP        17-bs001nv (i5-7200U/6GB/2TB/Radeon  Windows   \n",
       "709            HP       17-ak002nv (A10-9620P/6GB/2TB/Radeon  Windows   \n",
       "807            HP         15-ba043na (A12-9700P/8GB/2TB/W10)  Windows   \n",
       "1130           HP          15-bs078cl (i7-7500U/8GB/2TB/W10)  Windows   \n",
       "688            HP        17-Y002nv (A10-9600P/6GB/2TB/Radeon  Windows   \n",
       "358          Dell                              Inspiron 3567  Windows   \n",
       "303        Lenovo                         IdeaPad 320-15IKBN    No OS   \n",
       "76         Lenovo                         IdeaPad 320-15IKBN    No OS   \n",
       "527        Lenovo                          IdeaPad 320-15ISK    No OS   \n",
       "365            HP             15-AY023na (N3710/8GB/2TB/W10)  Windows   \n",
       "571            HP             14-am079na (N3710/8GB/2TB/W10)  Windows   \n",
       "\n",
       "      storage_gb  price_euros  \n",
       "1063        2000       989.99  \n",
       "341         2000       899.00  \n",
       "279         2000       849.00  \n",
       "775         2000       839.00  \n",
       "467         2000       759.00  \n",
       "171         2000       699.00  \n",
       "709         2000       655.01  \n",
       "807         2000       629.00  \n",
       "1130        2000       629.00  \n",
       "688         2000       569.00  \n",
       "358         2000       557.37  \n",
       "303         2000       549.00  \n",
       "76          2000       519.00  \n",
       "527         2000       459.00  \n",
       "365         2000       389.00  \n",
       "571         2000       389.00  "
      ],
      "text/html": "<div>\n<style scoped>\n    .dataframe tbody tr th:only-of-type {\n        vertical-align: middle;\n    }\n\n    .dataframe tbody tr th {\n        vertical-align: top;\n    }\n\n    .dataframe thead th {\n        text-align: right;\n    }\n</style>\n<table border=\"1\" class=\"dataframe\">\n  <thead>\n    <tr style=\"text-align: right;\">\n      <th></th>\n      <th>manufacturer</th>\n      <th>model_name</th>\n      <th>os</th>\n      <th>storage_gb</th>\n      <th>price_euros</th>\n    </tr>\n  </thead>\n  <tbody>\n    <tr>\n      <td>1063</td>\n      <td>Dell</td>\n      <td>Inspiron 5567</td>\n      <td>Windows</td>\n      <td>2000</td>\n      <td>989.99</td>\n    </tr>\n    <tr>\n      <td>341</td>\n      <td>Lenovo</td>\n      <td>IdeaPad 320-15ABR</td>\n      <td>Windows</td>\n      <td>2000</td>\n      <td>899.00</td>\n    </tr>\n    <tr>\n      <td>279</td>\n      <td>Lenovo</td>\n      <td>IdeaPad 320-17IKBR</td>\n      <td>No OS</td>\n      <td>2000</td>\n      <td>849.00</td>\n    </tr>\n    <tr>\n      <td>775</td>\n      <td>Asus</td>\n      <td>Q524UQ-BHI7T15 (i7-7500U/12GB/2TB/GeForce</td>\n      <td>Windows</td>\n      <td>2000</td>\n      <td>839.00</td>\n    </tr>\n    <tr>\n      <td>467</td>\n      <td>Dell</td>\n      <td>Inspiron 5570</td>\n      <td>Windows</td>\n      <td>2000</td>\n      <td>759.00</td>\n    </tr>\n    <tr>\n      <td>171</td>\n      <td>HP</td>\n      <td>17-bs001nv (i5-7200U/6GB/2TB/Radeon</td>\n      <td>Windows</td>\n      <td>2000</td>\n      <td>699.00</td>\n    </tr>\n    <tr>\n      <td>709</td>\n      <td>HP</td>\n      <td>17-ak002nv (A10-9620P/6GB/2TB/Radeon</td>\n      <td>Windows</td>\n      <td>2000</td>\n      <td>655.01</td>\n    </tr>\n    <tr>\n      <td>807</td>\n      <td>HP</td>\n      <td>15-ba043na (A12-9700P/8GB/2TB/W10)</td>\n      <td>Windows</td>\n      <td>2000</td>\n      <td>629.00</td>\n    </tr>\n    <tr>\n      <td>1130</td>\n      <td>HP</td>\n      <td>15-bs078cl (i7-7500U/8GB/2TB/W10)</td>\n      <td>Windows</td>\n      <td>2000</td>\n      <td>629.00</td>\n    </tr>\n    <tr>\n      <td>688</td>\n      <td>HP</td>\n      <td>17-Y002nv (A10-9600P/6GB/2TB/Radeon</td>\n      <td>Windows</td>\n      <td>2000</td>\n      <td>569.00</td>\n    </tr>\n    <tr>\n      <td>358</td>\n      <td>Dell</td>\n      <td>Inspiron 3567</td>\n      <td>Windows</td>\n      <td>2000</td>\n      <td>557.37</td>\n    </tr>\n    <tr>\n      <td>303</td>\n      <td>Lenovo</td>\n      <td>IdeaPad 320-15IKBN</td>\n      <td>No OS</td>\n      <td>2000</td>\n      <td>549.00</td>\n    </tr>\n    <tr>\n      <td>76</td>\n      <td>Lenovo</td>\n      <td>IdeaPad 320-15IKBN</td>\n      <td>No OS</td>\n      <td>2000</td>\n      <td>519.00</td>\n    </tr>\n    <tr>\n      <td>527</td>\n      <td>Lenovo</td>\n      <td>IdeaPad 320-15ISK</td>\n      <td>No OS</td>\n      <td>2000</td>\n      <td>459.00</td>\n    </tr>\n    <tr>\n      <td>365</td>\n      <td>HP</td>\n      <td>15-AY023na (N3710/8GB/2TB/W10)</td>\n      <td>Windows</td>\n      <td>2000</td>\n      <td>389.00</td>\n    </tr>\n    <tr>\n      <td>571</td>\n      <td>HP</td>\n      <td>14-am079na (N3710/8GB/2TB/W10)</td>\n      <td>Windows</td>\n      <td>2000</td>\n      <td>389.00</td>\n    </tr>\n  </tbody>\n</table>\n</div>"
     },
     "metadata": {},
     "execution_count": 29
    }
   ],
   "source": [
    "laptops.loc[:,[\"manufacturer\",\"model_name\",\"os\",\"storage_gb\",\"price_euros\"]].sort_values([\"storage_gb\", \"price_euros\"], ascending=False).head(16)"
   ]
  },
  {
   "source": [
    "The highest storage space in the dataset is 2TB (2000 GB). Laptops with this storage size are listed above, in total there is 16 laptops with 2TB storage. Most expensive is **Inspiration 5567 by Dell**, price is set to 989.99€. Cheapest laptop is **14-am079na (N3710/8GB/2TB/W10)** by HP, costing 389€. "
   ],
   "cell_type": "markdown",
   "metadata": {}
  }
 ]
}