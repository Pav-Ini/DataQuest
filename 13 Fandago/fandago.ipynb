{
 "cells": [
  {
   "cell_type": "markdown",
   "source": [
    "# Is Fandango (still) Floating Ratings?\n",
    "\n",
    "This guidede project is part of the Data Analyst path available on [Dataquest.io](https://dataquest.io)\n",
    "\n",
    "In 2015 journalist [Walt Hickey](https://fivethirtyeight.com/contributors/walt-hickey/) published an article [Be Suspicious Of Online Movie Ratings, Especially Fandango’s](https://fivethirtyeight.com/features/fandango-movies-ratings/). In the article Hickey discovered that [Fandango](https://www.fandango.com) is playing with the ratings and the actuall ratings are smaller than it shows on the website. Since the article was published in 2015 Fandango site has changed their rating system to percentage and is showing Rotten Tomatoes along with the Fandango rating system.\n",
    "\n",
    "## Current Fandango\n",
    "<div>\n",
    "<img src=\"https://github.com/Pav-Ini/DataQuest/blob/main/13%20Fandago/fandago_01.png?raw=true\" width=\"500\"/>\n",
    "</div>\n",
    "\n",
    "**Current Reviews Methodology**\n",
    "<div>\n",
    "<img src=\"https://github.com/Pav-Ini/DataQuest/blob/main/13%20Fandago/fandago_02.png?raw=true\" width=\"300\"/>\n",
    "</div>\n",
    "<br/><br/>\n",
    "<br/><br/>\n",
    "\n",
    "## Previous Fandango\n",
    "<div>\n",
    "<img src=\"https://s3.amazonaws.com/dq-content/288/s1gp_fdg_stars.png\" width=\"500\"/>\n",
    "</div>\n",
    "\n",
    "Hickey found that the actual rating was almost always rounded up to the nearest half-star. For instance, a 4.1 movie would be rounded off to 4.5 stars, not to 4 stars, as you may expect. In the case of 8% of the ratings analyzed, the rounding up was done to the nearest whole star. For instance, a 4.5 rating would be rounded off to 5 stars.\n",
    "For one movie rating, the rounding off was completely bizarre: from a rating of 4 in the HTML of the page to a displayed rating of 5 stars. The data I'm analyzing (used for the 2015 comparison) are from the **following years 2016 and 2017.**\n",
    "\n",
    "## Datasets\n",
    "- [Hickey original dataset](https://github.com/fivethirtyeight/data/tree/master/fandango)\n",
    "- [Dataquest.io dataset](https://github.com/mircealex/Movie_ratings_2016_17)\n",
    "\n",
    "## 1. Exploring the Data"
   ],
   "metadata": {}
  },
  {
   "cell_type": "code",
   "execution_count": 1,
   "source": [
    "# importing libraries\n",
    "import pandas as pd\n",
    "import numpy as np\n",
    "import matplotlib.pyplot as plt\n",
    "%matplotlib inline"
   ],
   "outputs": [],
   "metadata": {}
  },
  {
   "cell_type": "code",
   "execution_count": 2,
   "source": [
    "# reading the files as pd.DataFrame\n",
    "previous = pd.read_csv(\"fandango_score_comparison.csv\")\n",
    "after = pd.read_csv(\"movie_ratings_16_17.csv\")"
   ],
   "outputs": [],
   "metadata": {}
  },
  {
   "cell_type": "code",
   "execution_count": 3,
   "source": [
    "# explorig previous dataset - sample of 3\n",
    "previous.sample(3)"
   ],
   "outputs": [
    {
     "output_type": "execute_result",
     "data": {
      "text/plain": [
       "                      FILM  RottenTomatoes  RottenTomatoes_User  Metacritic  \\\n",
       "48   Fantastic Four (2015)               9                   20          27   \n",
       "120    The Wolfpack (2015)              84                   73          75   \n",
       "63         Child 44 (2015)              26                   44          41   \n",
       "\n",
       "     Metacritic_User  IMDB  Fandango_Stars  Fandango_Ratingvalue  RT_norm  \\\n",
       "48               2.5   4.0             3.0                   2.7     0.45   \n",
       "120              7.0   7.1             3.5                   3.4     4.20   \n",
       "63               5.3   6.4             4.0                   3.7     1.30   \n",
       "\n",
       "     RT_user_norm  ...  IMDB_norm  RT_norm_round  RT_user_norm_round  \\\n",
       "48           1.00  ...       2.00            0.5                 1.0   \n",
       "120          3.65  ...       3.55            4.0                 3.5   \n",
       "63           2.20  ...       3.20            1.5                 2.0   \n",
       "\n",
       "     Metacritic_norm_round  Metacritic_user_norm_round  IMDB_norm_round  \\\n",
       "48                     1.5                         1.5              2.0   \n",
       "120                    4.0                         3.5              3.5   \n",
       "63                     2.0                         2.5              3.0   \n",
       "\n",
       "     Metacritic_user_vote_count  IMDB_user_vote_count  Fandango_votes  \\\n",
       "48                          421                 39838            6288   \n",
       "120                           8                  1488              66   \n",
       "63                           73                 19220             308   \n",
       "\n",
       "     Fandango_Difference  \n",
       "48                   0.3  \n",
       "120                  0.1  \n",
       "63                   0.3  \n",
       "\n",
       "[3 rows x 22 columns]"
      ],
      "text/html": [
       "<div>\n",
       "<style scoped>\n",
       "    .dataframe tbody tr th:only-of-type {\n",
       "        vertical-align: middle;\n",
       "    }\n",
       "\n",
       "    .dataframe tbody tr th {\n",
       "        vertical-align: top;\n",
       "    }\n",
       "\n",
       "    .dataframe thead th {\n",
       "        text-align: right;\n",
       "    }\n",
       "</style>\n",
       "<table border=\"1\" class=\"dataframe\">\n",
       "  <thead>\n",
       "    <tr style=\"text-align: right;\">\n",
       "      <th></th>\n",
       "      <th>FILM</th>\n",
       "      <th>RottenTomatoes</th>\n",
       "      <th>RottenTomatoes_User</th>\n",
       "      <th>Metacritic</th>\n",
       "      <th>Metacritic_User</th>\n",
       "      <th>IMDB</th>\n",
       "      <th>Fandango_Stars</th>\n",
       "      <th>Fandango_Ratingvalue</th>\n",
       "      <th>RT_norm</th>\n",
       "      <th>RT_user_norm</th>\n",
       "      <th>...</th>\n",
       "      <th>IMDB_norm</th>\n",
       "      <th>RT_norm_round</th>\n",
       "      <th>RT_user_norm_round</th>\n",
       "      <th>Metacritic_norm_round</th>\n",
       "      <th>Metacritic_user_norm_round</th>\n",
       "      <th>IMDB_norm_round</th>\n",
       "      <th>Metacritic_user_vote_count</th>\n",
       "      <th>IMDB_user_vote_count</th>\n",
       "      <th>Fandango_votes</th>\n",
       "      <th>Fandango_Difference</th>\n",
       "    </tr>\n",
       "  </thead>\n",
       "  <tbody>\n",
       "    <tr>\n",
       "      <td>48</td>\n",
       "      <td>Fantastic Four (2015)</td>\n",
       "      <td>9</td>\n",
       "      <td>20</td>\n",
       "      <td>27</td>\n",
       "      <td>2.5</td>\n",
       "      <td>4.0</td>\n",
       "      <td>3.0</td>\n",
       "      <td>2.7</td>\n",
       "      <td>0.45</td>\n",
       "      <td>1.00</td>\n",
       "      <td>...</td>\n",
       "      <td>2.00</td>\n",
       "      <td>0.5</td>\n",
       "      <td>1.0</td>\n",
       "      <td>1.5</td>\n",
       "      <td>1.5</td>\n",
       "      <td>2.0</td>\n",
       "      <td>421</td>\n",
       "      <td>39838</td>\n",
       "      <td>6288</td>\n",
       "      <td>0.3</td>\n",
       "    </tr>\n",
       "    <tr>\n",
       "      <td>120</td>\n",
       "      <td>The Wolfpack (2015)</td>\n",
       "      <td>84</td>\n",
       "      <td>73</td>\n",
       "      <td>75</td>\n",
       "      <td>7.0</td>\n",
       "      <td>7.1</td>\n",
       "      <td>3.5</td>\n",
       "      <td>3.4</td>\n",
       "      <td>4.20</td>\n",
       "      <td>3.65</td>\n",
       "      <td>...</td>\n",
       "      <td>3.55</td>\n",
       "      <td>4.0</td>\n",
       "      <td>3.5</td>\n",
       "      <td>4.0</td>\n",
       "      <td>3.5</td>\n",
       "      <td>3.5</td>\n",
       "      <td>8</td>\n",
       "      <td>1488</td>\n",
       "      <td>66</td>\n",
       "      <td>0.1</td>\n",
       "    </tr>\n",
       "    <tr>\n",
       "      <td>63</td>\n",
       "      <td>Child 44 (2015)</td>\n",
       "      <td>26</td>\n",
       "      <td>44</td>\n",
       "      <td>41</td>\n",
       "      <td>5.3</td>\n",
       "      <td>6.4</td>\n",
       "      <td>4.0</td>\n",
       "      <td>3.7</td>\n",
       "      <td>1.30</td>\n",
       "      <td>2.20</td>\n",
       "      <td>...</td>\n",
       "      <td>3.20</td>\n",
       "      <td>1.5</td>\n",
       "      <td>2.0</td>\n",
       "      <td>2.0</td>\n",
       "      <td>2.5</td>\n",
       "      <td>3.0</td>\n",
       "      <td>73</td>\n",
       "      <td>19220</td>\n",
       "      <td>308</td>\n",
       "      <td>0.3</td>\n",
       "    </tr>\n",
       "  </tbody>\n",
       "</table>\n",
       "<p>3 rows × 22 columns</p>\n",
       "</div>"
      ]
     },
     "metadata": {},
     "execution_count": 3
    }
   ],
   "metadata": {}
  },
  {
   "cell_type": "code",
   "execution_count": 4,
   "source": [
    "# explorig after dataset - sample of 3\n",
    "after.sample(3)"
   ],
   "outputs": [
    {
     "output_type": "execute_result",
     "data": {
      "text/plain": [
       "                           movie  year  metascore  imdb  tmeter  audience  \\\n",
       "64                          Gold  2016         49   6.6      42        45   \n",
       "176                  The Founder  2016         66   7.2      83        81   \n",
       "88   Keeping Up with the Joneses  2016         34   5.8      19        38   \n",
       "\n",
       "     fandango  n_metascore  n_imdb  n_tmeter  n_audience  nr_metascore  \\\n",
       "64        3.5         2.45     3.3      2.10        2.25           2.5   \n",
       "176       4.0         3.30     3.6      4.15        4.05           3.5   \n",
       "88        3.5         1.70     2.9      0.95        1.90           1.5   \n",
       "\n",
       "     nr_imdb  nr_tmeter  nr_audience  \n",
       "64       3.5        2.0          2.0  \n",
       "176      3.5        4.0          4.0  \n",
       "88       3.0        1.0          2.0  "
      ],
      "text/html": [
       "<div>\n",
       "<style scoped>\n",
       "    .dataframe tbody tr th:only-of-type {\n",
       "        vertical-align: middle;\n",
       "    }\n",
       "\n",
       "    .dataframe tbody tr th {\n",
       "        vertical-align: top;\n",
       "    }\n",
       "\n",
       "    .dataframe thead th {\n",
       "        text-align: right;\n",
       "    }\n",
       "</style>\n",
       "<table border=\"1\" class=\"dataframe\">\n",
       "  <thead>\n",
       "    <tr style=\"text-align: right;\">\n",
       "      <th></th>\n",
       "      <th>movie</th>\n",
       "      <th>year</th>\n",
       "      <th>metascore</th>\n",
       "      <th>imdb</th>\n",
       "      <th>tmeter</th>\n",
       "      <th>audience</th>\n",
       "      <th>fandango</th>\n",
       "      <th>n_metascore</th>\n",
       "      <th>n_imdb</th>\n",
       "      <th>n_tmeter</th>\n",
       "      <th>n_audience</th>\n",
       "      <th>nr_metascore</th>\n",
       "      <th>nr_imdb</th>\n",
       "      <th>nr_tmeter</th>\n",
       "      <th>nr_audience</th>\n",
       "    </tr>\n",
       "  </thead>\n",
       "  <tbody>\n",
       "    <tr>\n",
       "      <td>64</td>\n",
       "      <td>Gold</td>\n",
       "      <td>2016</td>\n",
       "      <td>49</td>\n",
       "      <td>6.6</td>\n",
       "      <td>42</td>\n",
       "      <td>45</td>\n",
       "      <td>3.5</td>\n",
       "      <td>2.45</td>\n",
       "      <td>3.3</td>\n",
       "      <td>2.10</td>\n",
       "      <td>2.25</td>\n",
       "      <td>2.5</td>\n",
       "      <td>3.5</td>\n",
       "      <td>2.0</td>\n",
       "      <td>2.0</td>\n",
       "    </tr>\n",
       "    <tr>\n",
       "      <td>176</td>\n",
       "      <td>The Founder</td>\n",
       "      <td>2016</td>\n",
       "      <td>66</td>\n",
       "      <td>7.2</td>\n",
       "      <td>83</td>\n",
       "      <td>81</td>\n",
       "      <td>4.0</td>\n",
       "      <td>3.30</td>\n",
       "      <td>3.6</td>\n",
       "      <td>4.15</td>\n",
       "      <td>4.05</td>\n",
       "      <td>3.5</td>\n",
       "      <td>3.5</td>\n",
       "      <td>4.0</td>\n",
       "      <td>4.0</td>\n",
       "    </tr>\n",
       "    <tr>\n",
       "      <td>88</td>\n",
       "      <td>Keeping Up with the Joneses</td>\n",
       "      <td>2016</td>\n",
       "      <td>34</td>\n",
       "      <td>5.8</td>\n",
       "      <td>19</td>\n",
       "      <td>38</td>\n",
       "      <td>3.5</td>\n",
       "      <td>1.70</td>\n",
       "      <td>2.9</td>\n",
       "      <td>0.95</td>\n",
       "      <td>1.90</td>\n",
       "      <td>1.5</td>\n",
       "      <td>3.0</td>\n",
       "      <td>1.0</td>\n",
       "      <td>2.0</td>\n",
       "    </tr>\n",
       "  </tbody>\n",
       "</table>\n",
       "</div>"
      ]
     },
     "metadata": {},
     "execution_count": 4
    }
   ],
   "metadata": {}
  },
  {
   "cell_type": "code",
   "execution_count": 5,
   "source": [
    "# selecting working columns for both \n",
    "fandago_previous = previous.copy()[['FILM', 'Fandango_Stars', 'Fandango_Ratingvalue', 'Fandango_votes', 'Fandango_Difference']]\n",
    "fandago_after = after.copy()[['movie', 'year', 'fandango']]"
   ],
   "outputs": [],
   "metadata": {}
  },
  {
   "cell_type": "code",
   "execution_count": 6,
   "source": [
    "# explore fandago_previous\n",
    "fandago_previous.sample(5)"
   ],
   "outputs": [
    {
     "output_type": "execute_result",
     "data": {
      "text/plain": [
       "                                   FILM  Fandango_Stars  Fandango_Ratingvalue  \\\n",
       "135           The Lazarus Effect (2015)             3.0                   3.0   \n",
       "73                     Furious 7 (2015)             5.0                   4.8   \n",
       "145  Kumiko, The Treasure Hunter (2015)             3.5                   3.5   \n",
       "55                Black or White (2015)             4.5                   4.2   \n",
       "84                    Sinister 2 (2015)             3.5                   3.3   \n",
       "\n",
       "     Fandango_votes  Fandango_Difference  \n",
       "135            1651                  0.0  \n",
       "73            33538                  0.2  \n",
       "145              41                  0.0  \n",
       "55             1862                  0.3  \n",
       "84              973                  0.2  "
      ],
      "text/html": [
       "<div>\n",
       "<style scoped>\n",
       "    .dataframe tbody tr th:only-of-type {\n",
       "        vertical-align: middle;\n",
       "    }\n",
       "\n",
       "    .dataframe tbody tr th {\n",
       "        vertical-align: top;\n",
       "    }\n",
       "\n",
       "    .dataframe thead th {\n",
       "        text-align: right;\n",
       "    }\n",
       "</style>\n",
       "<table border=\"1\" class=\"dataframe\">\n",
       "  <thead>\n",
       "    <tr style=\"text-align: right;\">\n",
       "      <th></th>\n",
       "      <th>FILM</th>\n",
       "      <th>Fandango_Stars</th>\n",
       "      <th>Fandango_Ratingvalue</th>\n",
       "      <th>Fandango_votes</th>\n",
       "      <th>Fandango_Difference</th>\n",
       "    </tr>\n",
       "  </thead>\n",
       "  <tbody>\n",
       "    <tr>\n",
       "      <td>135</td>\n",
       "      <td>The Lazarus Effect (2015)</td>\n",
       "      <td>3.0</td>\n",
       "      <td>3.0</td>\n",
       "      <td>1651</td>\n",
       "      <td>0.0</td>\n",
       "    </tr>\n",
       "    <tr>\n",
       "      <td>73</td>\n",
       "      <td>Furious 7 (2015)</td>\n",
       "      <td>5.0</td>\n",
       "      <td>4.8</td>\n",
       "      <td>33538</td>\n",
       "      <td>0.2</td>\n",
       "    </tr>\n",
       "    <tr>\n",
       "      <td>145</td>\n",
       "      <td>Kumiko, The Treasure Hunter (2015)</td>\n",
       "      <td>3.5</td>\n",
       "      <td>3.5</td>\n",
       "      <td>41</td>\n",
       "      <td>0.0</td>\n",
       "    </tr>\n",
       "    <tr>\n",
       "      <td>55</td>\n",
       "      <td>Black or White (2015)</td>\n",
       "      <td>4.5</td>\n",
       "      <td>4.2</td>\n",
       "      <td>1862</td>\n",
       "      <td>0.3</td>\n",
       "    </tr>\n",
       "    <tr>\n",
       "      <td>84</td>\n",
       "      <td>Sinister 2 (2015)</td>\n",
       "      <td>3.5</td>\n",
       "      <td>3.3</td>\n",
       "      <td>973</td>\n",
       "      <td>0.2</td>\n",
       "    </tr>\n",
       "  </tbody>\n",
       "</table>\n",
       "</div>"
      ]
     },
     "metadata": {},
     "execution_count": 6
    }
   ],
   "metadata": {}
  },
  {
   "cell_type": "code",
   "execution_count": 7,
   "source": [
    "# explore fandago_after\n",
    "fandago_after.sample(5)"
   ],
   "outputs": [
    {
     "output_type": "execute_result",
     "data": {
      "text/plain": [
       "                      movie  year  fandango\n",
       "16              Bad Santa 2  2016       3.5\n",
       "154        T2 Trainspotting  2017       4.5\n",
       "89                Kickboxer  2016       4.0\n",
       "6    A Street Cat Named Bob  2016       4.5\n",
       "23           Bitter Harvest  2017       4.5"
      ],
      "text/html": [
       "<div>\n",
       "<style scoped>\n",
       "    .dataframe tbody tr th:only-of-type {\n",
       "        vertical-align: middle;\n",
       "    }\n",
       "\n",
       "    .dataframe tbody tr th {\n",
       "        vertical-align: top;\n",
       "    }\n",
       "\n",
       "    .dataframe thead th {\n",
       "        text-align: right;\n",
       "    }\n",
       "</style>\n",
       "<table border=\"1\" class=\"dataframe\">\n",
       "  <thead>\n",
       "    <tr style=\"text-align: right;\">\n",
       "      <th></th>\n",
       "      <th>movie</th>\n",
       "      <th>year</th>\n",
       "      <th>fandango</th>\n",
       "    </tr>\n",
       "  </thead>\n",
       "  <tbody>\n",
       "    <tr>\n",
       "      <td>16</td>\n",
       "      <td>Bad Santa 2</td>\n",
       "      <td>2016</td>\n",
       "      <td>3.5</td>\n",
       "    </tr>\n",
       "    <tr>\n",
       "      <td>154</td>\n",
       "      <td>T2 Trainspotting</td>\n",
       "      <td>2017</td>\n",
       "      <td>4.5</td>\n",
       "    </tr>\n",
       "    <tr>\n",
       "      <td>89</td>\n",
       "      <td>Kickboxer</td>\n",
       "      <td>2016</td>\n",
       "      <td>4.0</td>\n",
       "    </tr>\n",
       "    <tr>\n",
       "      <td>6</td>\n",
       "      <td>A Street Cat Named Bob</td>\n",
       "      <td>2016</td>\n",
       "      <td>4.5</td>\n",
       "    </tr>\n",
       "    <tr>\n",
       "      <td>23</td>\n",
       "      <td>Bitter Harvest</td>\n",
       "      <td>2017</td>\n",
       "      <td>4.5</td>\n",
       "    </tr>\n",
       "  </tbody>\n",
       "</table>\n",
       "</div>"
      ]
     },
     "metadata": {},
     "execution_count": 7
    }
   ],
   "metadata": {}
  },
  {
   "cell_type": "markdown",
   "source": [
    "The goal of this analysis is to determine whether the Fandango is still inflating the reviews on it's site or not. The population for this analysis are movies in the Fandango database - the website.\n",
    "\n",
    "Hickey's `README.md` [document](https://github.com/fivethirtyeight/data/tree/master/fandango#readme) specifies the dataset:\n",
    "- at least 30 fan reviews on Fandango\n",
    "- the data from Fandango was pulled on Aug. 24, 2015\n",
    "\n",
    "Dataquest.io `README.md` [document](https://github.com/mircealex/Movie_ratings_2016_17/blob/master/README.md) specification:\n",
    "- ratings data for 214 of the most popular movies (with a significant number of votes) released in 2016 and 2017\n",
    "\n",
    "As the two authors have different data sampling approaches, let's change the original analysis goal, so we can compare both datasets. The **new goal** is to determine whether there's any difference between Fandango's ratings for popular movies in 2015 and Fandango's ratings for popular movies in 2016.\n",
    "\n",
    "## 2. Isolating the Sample\n",
    "To move forward with the analysis we need two datasets.\n",
    "- All Fandango's ratings for popular movies released in 2015\n",
    "- All Fandango's ratings for popular movies released in 2016\n",
    "\n",
    "To determine what is a *popular* movie, we use Hickeys metrics: movies with 30 or more reviews. Unfortunally the second dataset does not contain data about the number of ratings. Let's sample some data and cross-check with the current Fandango database to see how many ratings the movies have. The current situp does not feature the number of ratings, but when opening the source code the number of ratings can be found under the variable `ratingCount`. Also this method is not accurate, because looking at the Fandango site now (2021), the number of ratings went up, compared to 2016.\n",
    "\n",
    "**Current Source Code**\n",
    "<div>\n",
    "<img src=\"https://github.com/Pav-Ini/DataQuest/blob/main/13%20Fandago/fandago_03.png?raw=true\" width=\"700\"/>\n",
    "</div>\n",
    "\n",
    "### 2.1 Check if Both Samples Contain Popular Movies\n",
    "That is, check whether all - or at least most - sample points are movies with over 30 fan ratings on Fandango's website."
   ],
   "metadata": {}
  },
  {
   "cell_type": "code",
   "execution_count": 8,
   "source": [
    "# checking the fandago_previous\n",
    "\n",
    "(fandago_previous[\"Fandango_votes\"] <= 30).sum()"
   ],
   "outputs": [
    {
     "output_type": "execute_result",
     "data": {
      "text/plain": [
       "0"
      ]
     },
     "metadata": {},
     "execution_count": 8
    }
   ],
   "metadata": {}
  },
  {
   "cell_type": "markdown",
   "source": [
    "Hickey's dataset does not contain any movies with rating 30 or smaller. 👍\n",
    "The second dataset however does not have the no. rating colum. Let's crate a sample and cross-check with the Fandago website."
   ],
   "metadata": {}
  },
  {
   "cell_type": "code",
   "execution_count": 9,
   "source": [
    "fandago_after.sample(10, random_state=1)"
   ],
   "outputs": [
    {
     "output_type": "execute_result",
     "data": {
      "text/plain": [
       "                                       movie  year  fandango\n",
       "108                   Mechanic: Resurrection  2016       4.0\n",
       "206                                 Warcraft  2016       4.0\n",
       "106                                Max Steel  2016       3.5\n",
       "107                            Me Before You  2016       4.5\n",
       "51   Fantastic Beasts and Where to Find Them  2016       4.5\n",
       "33                                      Cell  2016       3.0\n",
       "59                                    Genius  2016       3.5\n",
       "152                                    Sully  2016       4.5\n",
       "4                    A Hologram for the King  2016       3.0\n",
       "31                Captain America: Civil War  2016       4.5"
      ],
      "text/html": [
       "<div>\n",
       "<style scoped>\n",
       "    .dataframe tbody tr th:only-of-type {\n",
       "        vertical-align: middle;\n",
       "    }\n",
       "\n",
       "    .dataframe tbody tr th {\n",
       "        vertical-align: top;\n",
       "    }\n",
       "\n",
       "    .dataframe thead th {\n",
       "        text-align: right;\n",
       "    }\n",
       "</style>\n",
       "<table border=\"1\" class=\"dataframe\">\n",
       "  <thead>\n",
       "    <tr style=\"text-align: right;\">\n",
       "      <th></th>\n",
       "      <th>movie</th>\n",
       "      <th>year</th>\n",
       "      <th>fandango</th>\n",
       "    </tr>\n",
       "  </thead>\n",
       "  <tbody>\n",
       "    <tr>\n",
       "      <td>108</td>\n",
       "      <td>Mechanic: Resurrection</td>\n",
       "      <td>2016</td>\n",
       "      <td>4.0</td>\n",
       "    </tr>\n",
       "    <tr>\n",
       "      <td>206</td>\n",
       "      <td>Warcraft</td>\n",
       "      <td>2016</td>\n",
       "      <td>4.0</td>\n",
       "    </tr>\n",
       "    <tr>\n",
       "      <td>106</td>\n",
       "      <td>Max Steel</td>\n",
       "      <td>2016</td>\n",
       "      <td>3.5</td>\n",
       "    </tr>\n",
       "    <tr>\n",
       "      <td>107</td>\n",
       "      <td>Me Before You</td>\n",
       "      <td>2016</td>\n",
       "      <td>4.5</td>\n",
       "    </tr>\n",
       "    <tr>\n",
       "      <td>51</td>\n",
       "      <td>Fantastic Beasts and Where to Find Them</td>\n",
       "      <td>2016</td>\n",
       "      <td>4.5</td>\n",
       "    </tr>\n",
       "    <tr>\n",
       "      <td>33</td>\n",
       "      <td>Cell</td>\n",
       "      <td>2016</td>\n",
       "      <td>3.0</td>\n",
       "    </tr>\n",
       "    <tr>\n",
       "      <td>59</td>\n",
       "      <td>Genius</td>\n",
       "      <td>2016</td>\n",
       "      <td>3.5</td>\n",
       "    </tr>\n",
       "    <tr>\n",
       "      <td>152</td>\n",
       "      <td>Sully</td>\n",
       "      <td>2016</td>\n",
       "      <td>4.5</td>\n",
       "    </tr>\n",
       "    <tr>\n",
       "      <td>4</td>\n",
       "      <td>A Hologram for the King</td>\n",
       "      <td>2016</td>\n",
       "      <td>3.0</td>\n",
       "    </tr>\n",
       "    <tr>\n",
       "      <td>31</td>\n",
       "      <td>Captain America: Civil War</td>\n",
       "      <td>2016</td>\n",
       "      <td>4.5</td>\n",
       "    </tr>\n",
       "  </tbody>\n",
       "</table>\n",
       "</div>"
      ]
     },
     "metadata": {},
     "execution_count": 9
    }
   ],
   "metadata": {}
  },
  {
   "cell_type": "markdown",
   "source": [
    "Crossechecking with the website we can observe following:\n",
    "|Movie|`ratingCount`|\n",
    "|------|----------|\n",
    "|Mechanic: Resurrection|25654|\n",
    "|Warcraft|31730|\n",
    "|Max Steel|6854|\n",
    "|Me Before You|30777|\n",
    "|Fantastic Beasts and Where to Find Them|88187|\n",
    "|Cell|3868|\n",
    "|Genius|11|\n",
    "|Sully|48658|\n",
    "|A Hologram for the King|10253|\n",
    "|Captain America: Civil War|80903|\n",
    "\n",
    "From the sample we can tell that 90% of the data are meeting our criteria of popular movies.\n",
    "\n",
    "## 2.2 Isolating movies from 2015 and 2016"
   ],
   "metadata": {}
  },
  {
   "cell_type": "code",
   "execution_count": 10,
   "source": [
    "# extracting the year film was made and saving it as a new colum\n",
    "fandago_previous[\"year\"] = fandago_previous[\"FILM\"].str[-5:-1]\n",
    "fandago_previous[\"year\"].value_counts()"
   ],
   "outputs": [
    {
     "output_type": "execute_result",
     "data": {
      "text/plain": [
       "2015    129\n",
       "2014     17\n",
       "Name: year, dtype: int64"
      ]
     },
     "metadata": {},
     "execution_count": 10
    }
   ],
   "metadata": {}
  },
  {
   "cell_type": "markdown",
   "source": [
    "From the total of 146 movies in the Hickey's dataset, 17 were made in 2014. Let's extract only those made in 2015."
   ],
   "metadata": {}
  },
  {
   "cell_type": "code",
   "execution_count": 11,
   "source": [
    "fandago_2015 = fandago_previous[fandago_previous[\"year\"] == \"2015\"].copy()\n",
    "fandago_2015.shape"
   ],
   "outputs": [
    {
     "output_type": "execute_result",
     "data": {
      "text/plain": [
       "(129, 6)"
      ]
     },
     "metadata": {},
     "execution_count": 11
    }
   ],
   "metadata": {}
  },
  {
   "cell_type": "code",
   "execution_count": 12,
   "source": [
    "fandago_after[\"year\"].value_counts()"
   ],
   "outputs": [
    {
     "output_type": "execute_result",
     "data": {
      "text/plain": [
       "2016    191\n",
       "2017     23\n",
       "Name: year, dtype: int64"
      ]
     },
     "metadata": {},
     "execution_count": 12
    }
   ],
   "metadata": {}
  },
  {
   "cell_type": "markdown",
   "source": [
    "From the total number of 214 movies, 23 were made in 2017. Let's proceed only with movies made in 2016."
   ],
   "metadata": {}
  },
  {
   "cell_type": "code",
   "execution_count": 13,
   "source": [
    "fandago_2016 = fandago_after[fandago_after[\"year\"] == 2016].copy()\n",
    "fandago_2016.shape"
   ],
   "outputs": [
    {
     "output_type": "execute_result",
     "data": {
      "text/plain": [
       "(191, 3)"
      ]
     },
     "metadata": {},
     "execution_count": 13
    }
   ],
   "metadata": {}
  },
  {
   "cell_type": "markdown",
   "source": [
    "## 3. Comparing Shapes and Distributions for 2015 and 2016\n",
    "\n",
    "### 3.1 Kernel density plots\n",
    "\n",
    "Creating kernel density plots to compare rating distribution."
   ],
   "metadata": {}
  },
  {
   "cell_type": "code",
   "execution_count": 14,
   "source": [
    "plt.style.use(\"fivethirtyeight\")\n",
    "\n",
    "fandago_2015[\"Fandango_Stars\"].plot.kde(label=\"2015\", legend = True, figsize=(12,8))\n",
    "fandago_2016[\"fandango\"].plot.kde(label=\"2016\", legend=True)\n",
    "\n",
    "plt.title(\"Compared Fandango Rating\\'s (2015 vs 2016)\", y=1.1, size=22)\n",
    "plt.xlabel(\"Stars\", fontsize=14)\n",
    "plt.ylabel(\"Density\", fontsize=14)\n",
    "plt.xlim(0,5)\n",
    "plt.show()"
   ],
   "outputs": [
    {
     "output_type": "display_data",
     "data": {
      "text/plain": [
       "<Figure size 864x576 with 1 Axes>"
      ],
      "image/png": "[encoded data removed]"
     },
     "metadata": {}
    }
   ],
   "metadata": {}
  },
  {
   "cell_type": "markdown",
   "source": [
    "Both charts are left skewed, meaning that in both years the majority of ratings were positive. However, in 2015 the peak is at 4,5 stars, with 80% of the total amount of rated movies. In 2016 the rating shifted to 4 stars. **Movies in 2016 were receiving slightly worse rating.**\n",
    "\n",
    "### 3.2 Frequency distribuitions\n",
    "To have a closer look on the rating distribution let's generate frequency tables for each year. Because both datasets have different number of muvies, let's normalize the calucaltion and show the totals in percentages."
   ],
   "metadata": {}
  },
  {
   "cell_type": "code",
   "execution_count": 15,
   "source": [
    "print(\"2015 Distribution Table\", \"\\n\", \"-\" * 20)\n",
    "fandago_2015[\"Fandango_Stars\"].value_counts(normalize=True).sort_index() * 100"
   ],
   "outputs": [
    {
     "output_type": "stream",
     "name": "stdout",
     "text": [
      "2015 Distribution Table \n",
      " --------------------\n"
     ]
    },
    {
     "output_type": "execute_result",
     "data": {
      "text/plain": [
       "3.0     8.527132\n",
       "3.5    17.829457\n",
       "4.0    28.682171\n",
       "4.5    37.984496\n",
       "5.0     6.976744\n",
       "Name: Fandango_Stars, dtype: float64"
      ]
     },
     "metadata": {},
     "execution_count": 15
    }
   ],
   "metadata": {}
  },
  {
   "cell_type": "code",
   "execution_count": 16,
   "source": [
    "print(\"2016 Distribution Table\", \"\\n\", \"-\" * 20)\n",
    "fandago_2016[\"fandango\"].value_counts(normalize=True).sort_index() * 100"
   ],
   "outputs": [
    {
     "output_type": "stream",
     "name": "stdout",
     "text": [
      "2016 Distribution Table \n",
      " --------------------\n"
     ]
    },
    {
     "output_type": "execute_result",
     "data": {
      "text/plain": [
       "2.5     3.141361\n",
       "3.0     7.329843\n",
       "3.5    24.083770\n",
       "4.0    40.314136\n",
       "4.5    24.607330\n",
       "5.0     0.523560\n",
       "Name: fandango, dtype: float64"
      ]
     },
     "metadata": {},
     "execution_count": 16
    }
   ],
   "metadata": {}
  },
  {
   "cell_type": "markdown",
   "source": [
    "Because both frequency tables are rather small we can simply eyeball the results and confirm that 2016 ratings are \"worse\" than 2015. In 2016 the rating of 2.5 stars is present. In 2015 the lowest star rating is 3. In 2015 there were almost 7% films rated with 5 stars, in 2016 it was only 0.5%. Majority of the ratings shifted from 4.5 to 4 stars.\n",
    "\n",
    "## 4. Direction of Change\n",
    "Let's compute a couple of summary statistics to get a more precise picture about the direction of the change. In what follows, we'll compute the **mean, the median, and the mode** for both distributions and then use a bar graph to plot the values."
   ],
   "metadata": {}
  },
  {
   "cell_type": "code",
   "execution_count": 17,
   "source": [
    "# computing mean for 2015 & 2016\n",
    "mean_2015 = fandago_2015[\"Fandango_Stars\"].mean()\n",
    "mean_2016 = fandago_2016[\"fandango\"].mean()\n",
    "\n",
    "# computing median for 2015 & 2016\n",
    "median_2015 = fandago_2015[\"Fandango_Stars\"].median()\n",
    "median_2016 = fandago_2016[\"fandango\"].median()\n",
    "\n",
    "# computing mode for 2015 & 2016\n",
    "mode_2015 = fandago_2015[\"Fandango_Stars\"].mode()[0] # to get only the mode value\n",
    "mode_2016 = fandago_2016[\"fandango\"].mode()[0]\n",
    "\n",
    "summary = pd.DataFrame()\n",
    "summary[\"2015\"] = [mean_2015, median_2015, mode_2015]\n",
    "summary[\"2016\"] = [mean_2016, median_2016, mode_2016]\n",
    "summary[\"Description\"] = [\"central value\", \"middle value\", \"most often value\"]\n",
    "summary.index = [\"mean\", \"median\", \"mode\"]"
   ],
   "outputs": [],
   "metadata": {}
  },
  {
   "cell_type": "code",
   "execution_count": 18,
   "source": [
    "summary"
   ],
   "outputs": [
    {
     "output_type": "execute_result",
     "data": {
      "text/plain": [
       "            2015      2016       Description\n",
       "mean    4.085271  3.887435     central value\n",
       "median  4.000000  4.000000      middle value\n",
       "mode    4.500000  4.000000  most often value"
      ],
      "text/html": [
       "<div>\n",
       "<style scoped>\n",
       "    .dataframe tbody tr th:only-of-type {\n",
       "        vertical-align: middle;\n",
       "    }\n",
       "\n",
       "    .dataframe tbody tr th {\n",
       "        vertical-align: top;\n",
       "    }\n",
       "\n",
       "    .dataframe thead th {\n",
       "        text-align: right;\n",
       "    }\n",
       "</style>\n",
       "<table border=\"1\" class=\"dataframe\">\n",
       "  <thead>\n",
       "    <tr style=\"text-align: right;\">\n",
       "      <th></th>\n",
       "      <th>2015</th>\n",
       "      <th>2016</th>\n",
       "      <th>Description</th>\n",
       "    </tr>\n",
       "  </thead>\n",
       "  <tbody>\n",
       "    <tr>\n",
       "      <td>mean</td>\n",
       "      <td>4.085271</td>\n",
       "      <td>3.887435</td>\n",
       "      <td>central value</td>\n",
       "    </tr>\n",
       "    <tr>\n",
       "      <td>median</td>\n",
       "      <td>4.000000</td>\n",
       "      <td>4.000000</td>\n",
       "      <td>middle value</td>\n",
       "    </tr>\n",
       "    <tr>\n",
       "      <td>mode</td>\n",
       "      <td>4.500000</td>\n",
       "      <td>4.000000</td>\n",
       "      <td>most often value</td>\n",
       "    </tr>\n",
       "  </tbody>\n",
       "</table>\n",
       "</div>"
      ]
     },
     "metadata": {},
     "execution_count": 18
    }
   ],
   "metadata": {}
  },
  {
   "cell_type": "code",
   "execution_count": 19,
   "source": [
    "summary.plot.bar( legend = True, figsize=(10,6), rot=0)\n",
    "\n",
    "plt.title(\"Summary Stats (2015 vs 2016)\", y=1.03, size=22)\n",
    "plt.ylabel(\"Stars\", fontsize=14)\n",
    "plt.yticks([1,2,3,4,5,6],[1,2,3,4,5])\n",
    "plt.legend(framealpha = 0, loc = 'upper center')\n",
    "plt.show()"
   ],
   "outputs": [
    {
     "output_type": "display_data",
     "data": {
      "text/plain": [
       "<Figure size 720x432 with 1 Axes>"
      ],
      "image/png": "[encoded data removed]"
     },
     "metadata": {}
    }
   ],
   "metadata": {}
  },
  {
   "cell_type": "code",
   "execution_count": 20,
   "source": [
    "print(\"Mean shift\" + \"\\n\" + \"-\" * 10)\n",
    "print(summary.loc[\"mean\"][0] - summary.loc[\"mean\"][1])\n",
    "print(\"\\n\")\n",
    "\n",
    "print(\"Mean difference relative to 2015\" + \"\\n\" + \"-\" * 10)\n",
    "print((summary.loc['mean'][0] - summary.loc['mean'][1]) / summary.loc['mean'][0] * 100)"
   ],
   "outputs": [
    {
     "output_type": "stream",
     "name": "stdout",
     "text": [
      "Mean shift\n",
      "----------\n",
      "0.19783676285563567\n",
      "\n",
      "\n",
      "Mean difference relative to 2015\n",
      "----------\n",
      "4.842683568951993\n"
     ]
    }
   ],
   "metadata": {}
  },
  {
   "cell_type": "markdown",
   "source": [
    "From the graph above we can read that the most common value (mode) dropped from 4.5 to 4 stars. The median (average) rating remains the same, but the mean (central value) is slighlty lower in 2016. The mean rating was lower in 2016 with approximately 0.2, and the mean drop of almost 5% relative to the mean rating in 2015.\n",
    "\n",
    "## 5. Conclusion\n",
    "There is a slight difference between 2015 and 2016 Fandango ratigns. The popular movies in 2016 received slightly worse ratings than in 2015.\n",
    "\n",
    "**Note** I have misread the Fandango and created all variables as `fandago`, cuz you know. Then it was too late (I was too lazy), to fix it. So here you go 💁"
   ],
   "metadata": {}
  },
  {
   "cell_type": "markdown",
   "source": [
    "## Sources\n",
    "|Picture Name|Source|Link|\n",
    "|--------|-------|------|\n",
    "|Current Fandango|Fandango|https://www.fandango.com/in-the-heights-2021-221894/movie-reviews|\n",
    "|Current Reviews Methodology|Fandago|https://www.fandango.com/in-the-heights-2021-221894/movie-reviews|\n",
    "|Previous Fandango|Dataquest.io|https://s3.amazonaws.com/dq-content/288/s1gp_fdg_stars.png|\n",
    "|Current Source Code|Fandango|view-source:https://www.fandango.com/avengers-endgame-2019-215871/movie-reviews|"
   ],
   "metadata": {}
  }
 ],
 "metadata": {
  "orig_nbformat": 4,
  "language_info": {
   "name": "python",
   "version": "3.7.4",
   "mimetype": "text/x-python",
   "codemirror_mode": {
    "name": "ipython",
    "version": 3
   },
   "pygments_lexer": "ipython3",
   "nbconvert_exporter": "python",
   "file_extension": ".py"
  },
  "kernelspec": {
   "name": "python3",
   "display_name": "Python 3.7.4 64-bit ('base': conda)"
  },
  "interpreter": {
   "hash": "dca0ade3e726a953b501b15e8e990130d2b7799f14cfd9f4271676035ebe5511"
  }
 },
 "nbformat": 4,
 "nbformat_minor": 2
}